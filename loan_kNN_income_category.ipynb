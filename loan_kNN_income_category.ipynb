{
 "cells": [
  {
   "cell_type": "code",
   "execution_count": 1,
   "metadata": {},
   "outputs": [
    {
     "name": "stderr",
     "output_type": "stream",
     "text": [
      "C:\\Users\\gtara\\Anaconda3\\lib\\site-packages\\sklearn\\cross_validation.py:41: DeprecationWarning: This module was deprecated in version 0.18 in favor of the model_selection module into which all the refactored classes and functions are moved. Also note that the interface of the new CV iterators are different from that of this module. This module will be removed in 0.20.\n",
      "  \"This module will be removed in 0.20.\", DeprecationWarning)\n"
     ]
    }
   ],
   "source": [
    "## load libraries\n",
    "import sys\n",
    "from numpy import *\n",
    "import numpy as np\n",
    "import pandas as pd\n",
    "import matplotlib.pyplot as plt\n",
    "import operator\n",
    "%matplotlib inline\n",
    "from sklearn.feature_extraction import DictVectorizer\n",
    "from sklearn import preprocessing\n",
    "from sklearn import neighbors, tree, naive_bayes\n",
    "from sklearn.metrics import confusion_matrix\n",
    "from sklearn.metrics import classification_report\n",
    "from sklearn.cross_validation import train_test_split\n",
    "from sklearn.neighbors import KNeighborsClassifier"
   ]
  },
  {
   "cell_type": "code",
   "execution_count": 2,
   "metadata": {},
   "outputs": [],
   "source": [
    "data = pd.read_csv(\"C:/Users/gtara/Desktop/loan_final.csv\", low_memory=False)"
   ]
  },
  {
   "cell_type": "code",
   "execution_count": 3,
   "metadata": {},
   "outputs": [],
   "source": [
    "# 5% of the data without replacement\n",
    "data = data.sample(frac=0.05, replace=False, random_state=123)  "
   ]
  },
  {
   "cell_type": "code",
   "execution_count": 5,
   "metadata": {},
   "outputs": [
    {
     "data": {
      "text/plain": [
       "(44369, 30)"
      ]
     },
     "execution_count": 5,
     "metadata": {},
     "output_type": "execute_result"
    }
   ],
   "source": [
    "data.shape"
   ]
  },
  {
   "cell_type": "code",
   "execution_count": 6,
   "metadata": {},
   "outputs": [
    {
     "data": {
      "text/html": [
       "<div>\n",
       "<style scoped>\n",
       "    .dataframe tbody tr th:only-of-type {\n",
       "        vertical-align: middle;\n",
       "    }\n",
       "\n",
       "    .dataframe tbody tr th {\n",
       "        vertical-align: top;\n",
       "    }\n",
       "\n",
       "    .dataframe thead th {\n",
       "        text-align: right;\n",
       "    }\n",
       "</style>\n",
       "<table border=\"1\" class=\"dataframe\">\n",
       "  <thead>\n",
       "    <tr style=\"text-align: right;\">\n",
       "      <th></th>\n",
       "      <th>id</th>\n",
       "      <th>year</th>\n",
       "      <th>issue_d</th>\n",
       "      <th>final_d</th>\n",
       "      <th>emp_length_int</th>\n",
       "      <th>home_ownership</th>\n",
       "      <th>home_ownership_cat</th>\n",
       "      <th>income_category</th>\n",
       "      <th>annual_inc</th>\n",
       "      <th>income_cat</th>\n",
       "      <th>...</th>\n",
       "      <th>loan_condition_cat</th>\n",
       "      <th>interest_rate</th>\n",
       "      <th>grade</th>\n",
       "      <th>grade_cat</th>\n",
       "      <th>dti</th>\n",
       "      <th>total_pymnt</th>\n",
       "      <th>total_rec_prncp</th>\n",
       "      <th>recoveries</th>\n",
       "      <th>installment</th>\n",
       "      <th>region</th>\n",
       "    </tr>\n",
       "  </thead>\n",
       "  <tbody>\n",
       "    <tr>\n",
       "      <th>70467</th>\n",
       "      <td>8556040</td>\n",
       "      <td>2013</td>\n",
       "      <td>01/11/2013</td>\n",
       "      <td>1012016</td>\n",
       "      <td>10.00</td>\n",
       "      <td>MORTGAGE</td>\n",
       "      <td>3</td>\n",
       "      <td>Low</td>\n",
       "      <td>96000</td>\n",
       "      <td>1</td>\n",
       "      <td>...</td>\n",
       "      <td>0</td>\n",
       "      <td>9.67</td>\n",
       "      <td>B</td>\n",
       "      <td>2</td>\n",
       "      <td>22.75</td>\n",
       "      <td>10852.030000</td>\n",
       "      <td>9003.16</td>\n",
       "      <td>0.0</td>\n",
       "      <td>417.47</td>\n",
       "      <td>munster</td>\n",
       "    </tr>\n",
       "    <tr>\n",
       "      <th>165635</th>\n",
       "      <td>3355435</td>\n",
       "      <td>2013</td>\n",
       "      <td>01/02/2013</td>\n",
       "      <td>1062015</td>\n",
       "      <td>6.00</td>\n",
       "      <td>MORTGAGE</td>\n",
       "      <td>3</td>\n",
       "      <td>Low</td>\n",
       "      <td>58000</td>\n",
       "      <td>1</td>\n",
       "      <td>...</td>\n",
       "      <td>0</td>\n",
       "      <td>13.11</td>\n",
       "      <td>B</td>\n",
       "      <td>2</td>\n",
       "      <td>17.46</td>\n",
       "      <td>9627.426447</td>\n",
       "      <td>8000.00</td>\n",
       "      <td>0.0</td>\n",
       "      <td>269.98</td>\n",
       "      <td>cannught</td>\n",
       "    </tr>\n",
       "    <tr>\n",
       "      <th>496523</th>\n",
       "      <td>66611115</td>\n",
       "      <td>2015</td>\n",
       "      <td>01/12/2015</td>\n",
       "      <td>1012016</td>\n",
       "      <td>6.05</td>\n",
       "      <td>OWN</td>\n",
       "      <td>2</td>\n",
       "      <td>Low</td>\n",
       "      <td>52000</td>\n",
       "      <td>1</td>\n",
       "      <td>...</td>\n",
       "      <td>0</td>\n",
       "      <td>10.64</td>\n",
       "      <td>B</td>\n",
       "      <td>2</td>\n",
       "      <td>25.04</td>\n",
       "      <td>313.870000</td>\n",
       "      <td>237.02</td>\n",
       "      <td>0.0</td>\n",
       "      <td>325.69</td>\n",
       "      <td>munster</td>\n",
       "    </tr>\n",
       "    <tr>\n",
       "      <th>182496</th>\n",
       "      <td>1685370</td>\n",
       "      <td>2012</td>\n",
       "      <td>01/12/2012</td>\n",
       "      <td>1012013</td>\n",
       "      <td>10.00</td>\n",
       "      <td>OWN</td>\n",
       "      <td>2</td>\n",
       "      <td>Low</td>\n",
       "      <td>90000</td>\n",
       "      <td>1</td>\n",
       "      <td>...</td>\n",
       "      <td>0</td>\n",
       "      <td>15.80</td>\n",
       "      <td>C</td>\n",
       "      <td>3</td>\n",
       "      <td>18.16</td>\n",
       "      <td>16211.070000</td>\n",
       "      <td>16000.00</td>\n",
       "      <td>0.0</td>\n",
       "      <td>560.94</td>\n",
       "      <td>Northern-Irl</td>\n",
       "    </tr>\n",
       "    <tr>\n",
       "      <th>554977</th>\n",
       "      <td>63286796</td>\n",
       "      <td>2015</td>\n",
       "      <td>01/10/2015</td>\n",
       "      <td>1122015</td>\n",
       "      <td>10.00</td>\n",
       "      <td>RENT</td>\n",
       "      <td>1</td>\n",
       "      <td>Low</td>\n",
       "      <td>75000</td>\n",
       "      <td>1</td>\n",
       "      <td>...</td>\n",
       "      <td>0</td>\n",
       "      <td>7.89</td>\n",
       "      <td>A</td>\n",
       "      <td>1</td>\n",
       "      <td>8.47</td>\n",
       "      <td>616.950000</td>\n",
       "      <td>495.84</td>\n",
       "      <td>0.0</td>\n",
       "      <td>312.86</td>\n",
       "      <td>ulster</td>\n",
       "    </tr>\n",
       "  </tbody>\n",
       "</table>\n",
       "<p>5 rows × 30 columns</p>\n",
       "</div>"
      ],
      "text/plain": [
       "              id  year     issue_d  final_d  emp_length_int home_ownership  \\\n",
       "70467    8556040  2013  01/11/2013  1012016           10.00       MORTGAGE   \n",
       "165635   3355435  2013  01/02/2013  1062015            6.00       MORTGAGE   \n",
       "496523  66611115  2015  01/12/2015  1012016            6.05            OWN   \n",
       "182496   1685370  2012  01/12/2012  1012013           10.00            OWN   \n",
       "554977  63286796  2015  01/10/2015  1122015           10.00           RENT   \n",
       "\n",
       "        home_ownership_cat income_category  annual_inc  income_cat  \\\n",
       "70467                    3             Low       96000           1   \n",
       "165635                   3             Low       58000           1   \n",
       "496523                   2             Low       52000           1   \n",
       "182496                   2             Low       90000           1   \n",
       "554977                   1             Low       75000           1   \n",
       "\n",
       "            ...       loan_condition_cat interest_rate  grade grade_cat  \\\n",
       "70467       ...                        0          9.67      B         2   \n",
       "165635      ...                        0         13.11      B         2   \n",
       "496523      ...                        0         10.64      B         2   \n",
       "182496      ...                        0         15.80      C         3   \n",
       "554977      ...                        0          7.89      A         1   \n",
       "\n",
       "          dti   total_pymnt  total_rec_prncp recoveries  installment  \\\n",
       "70467   22.75  10852.030000          9003.16        0.0       417.47   \n",
       "165635  17.46   9627.426447          8000.00        0.0       269.98   \n",
       "496523  25.04    313.870000           237.02        0.0       325.69   \n",
       "182496  18.16  16211.070000         16000.00        0.0       560.94   \n",
       "554977   8.47    616.950000           495.84        0.0       312.86   \n",
       "\n",
       "              region  \n",
       "70467        munster  \n",
       "165635      cannught  \n",
       "496523       munster  \n",
       "182496  Northern-Irl  \n",
       "554977        ulster  \n",
       "\n",
       "[5 rows x 30 columns]"
      ]
     },
     "execution_count": 6,
     "metadata": {},
     "output_type": "execute_result"
    }
   ],
   "source": [
    "data.head(n=5)"
   ]
  },
  {
   "cell_type": "code",
   "execution_count": 7,
   "metadata": {},
   "outputs": [
    {
     "data": {
      "text/plain": [
       "Index(['id', 'year', 'issue_d', 'final_d', 'emp_length_int', 'home_ownership',\n",
       "       'home_ownership_cat', 'income_category', 'annual_inc', 'income_cat',\n",
       "       'loan_amount', 'term', 'term_cat', 'application_type',\n",
       "       'application_type_cat', 'purpose', 'purpose_cat', 'interest_payments',\n",
       "       'interest_payment_cat', 'loan_condition', 'loan_condition_cat',\n",
       "       'interest_rate', 'grade', 'grade_cat', 'dti', 'total_pymnt',\n",
       "       'total_rec_prncp', 'recoveries', 'installment', 'region'],\n",
       "      dtype='object')"
      ]
     },
     "execution_count": 7,
     "metadata": {},
     "output_type": "execute_result"
    }
   ],
   "source": [
    "data.columns"
   ]
  },
  {
   "cell_type": "code",
   "execution_count": 9,
   "metadata": {},
   "outputs": [
    {
     "data": {
      "text/plain": [
       "array(['home_improvement', 'debt_consolidation', 'credit_card', 'other',\n",
       "       'car', 'major_purchase', 'medical', 'moving', 'small_business',\n",
       "       'house', 'vacation', 'wedding', 'renewable_energy', 'educational'],\n",
       "      dtype=object)"
      ]
     },
     "execution_count": 9,
     "metadata": {},
     "output_type": "execute_result"
    }
   ],
   "source": [
    "pd.unique(data['purpose'].values.ravel())"
   ]
  },
  {
   "cell_type": "code",
   "execution_count": 11,
   "metadata": {},
   "outputs": [
    {
     "name": "stdout",
     "output_type": "stream",
     "text": [
      "Amount of Classes:  14\n"
     ]
    }
   ],
   "source": [
    "print(\"Amount of Classes: \", len(pd.unique(data['purpose'].values.ravel())))"
   ]
  },
  {
   "cell_type": "code",
   "execution_count": 12,
   "metadata": {},
   "outputs": [
    {
     "name": "stdout",
     "output_type": "stream",
     "text": [
      "Column issue_d has 102 unique instances\n",
      "Column home_ownership has 5 unique instances\n",
      "Column income_category has 3 unique instances\n",
      "Column term has 2 unique instances\n",
      "Column application_type has 2 unique instances\n",
      "Column purpose has 14 unique instances\n",
      "Column interest_payments has 2 unique instances\n",
      "Column loan_condition has 2 unique instances\n",
      "Column grade has 7 unique instances\n",
      "Column region has 5 unique instances\n"
     ]
    }
   ],
   "source": [
    "for col in data.select_dtypes(include=['object']).columns:\n",
    "    print (\"Column {} has {} unique instances\".format( col, len(data[col].unique())) )"
   ]
  },
  {
   "cell_type": "code",
   "execution_count": 13,
   "metadata": {},
   "outputs": [
    {
     "data": {
      "text/plain": [
       "True"
      ]
     },
     "execution_count": 13,
     "metadata": {},
     "output_type": "execute_result"
    }
   ],
   "source": [
    "len(pd.unique(data['id'].values.ravel())) == data.shape[0]"
   ]
  },
  {
   "cell_type": "code",
   "execution_count": 14,
   "metadata": {},
   "outputs": [],
   "source": [
    "data = data.drop('id', 1)\n",
    "data = data.drop('year', 1)\n",
    "data = data.drop('issue_d', 1)\n",
    "data = data.drop('final_d', 1)\n",
    "data = data.drop('home_ownership_cat', 1)\n",
    "data = data.drop('income_cat', 1)\n",
    "data = data.drop('term_cat', 1)\n",
    "data = data.drop('application_type_cat', 1)\n",
    "data = data.drop('interest_payment_cat', 1)\n",
    "data = data.drop('loan_condition_cat', 1)\n",
    "data = data.drop('grade_cat', 1)"
   ]
  },
  {
   "cell_type": "code",
   "execution_count": 15,
   "metadata": {},
   "outputs": [
    {
     "data": {
      "text/plain": [
       "(44369, 19)"
      ]
     },
     "execution_count": 15,
     "metadata": {},
     "output_type": "execute_result"
    }
   ],
   "source": [
    "data.shape"
   ]
  },
  {
   "cell_type": "code",
   "execution_count": 16,
   "metadata": {},
   "outputs": [
    {
     "name": "stdout",
     "output_type": "stream",
     "text": [
      "Column home_ownership has 5 unique instances\n",
      "Column income_category has 3 unique instances\n",
      "Column term has 2 unique instances\n",
      "Column application_type has 2 unique instances\n",
      "Column purpose has 14 unique instances\n",
      "Column interest_payments has 2 unique instances\n",
      "Column loan_condition has 2 unique instances\n",
      "Column grade has 7 unique instances\n",
      "Column region has 5 unique instances\n"
     ]
    }
   ],
   "source": [
    "for col in data.select_dtypes(include=['object']).columns:\n",
    "    print (\"Column {} has {} unique instances\".format( col, len(data[col].unique())) )"
   ]
  },
  {
   "cell_type": "code",
   "execution_count": 17,
   "metadata": {},
   "outputs": [
    {
     "data": {
      "text/plain": [
       "<matplotlib.axes._subplots.AxesSubplot at 0x1810c5b9cf8>"
      ]
     },
     "execution_count": 17,
     "metadata": {},
     "output_type": "execute_result"
    },
    {
     "data": {
      "image/png": "[encoded data removed]",
      "text/plain": [
       "<Figure size 432x288 with 1 Axes>"
      ]
     },
     "metadata": {
      "needs_background": "light"
     },
     "output_type": "display_data"
    }
   ],
   "source": [
    "data['loan_amount'].plot(kind=\"hist\", bins=10)"
   ]
  },
  {
   "cell_type": "code",
   "execution_count": 18,
   "metadata": {},
   "outputs": [
    {
     "data": {
      "text/plain": [
       "<matplotlib.axes._subplots.AxesSubplot at 0x1810d9f3898>"
      ]
     },
     "execution_count": 18,
     "metadata": {},
     "output_type": "execute_result"
    },
    {
     "data": {
      "image/png": "[encoded data removed]",
      "text/plain": [
       "<Figure size 432x288 with 1 Axes>"
      ]
     },
     "metadata": {
      "needs_background": "light"
     },
     "output_type": "display_data"
    }
   ],
   "source": [
    "\n",
    "data['grade'].value_counts().plot(kind='bar')"
   ]
  },
  {
   "cell_type": "code",
   "execution_count": 19,
   "metadata": {},
   "outputs": [
    {
     "data": {
      "text/plain": [
       "<matplotlib.axes._subplots.AxesSubplot at 0x1810d9c7cc0>"
      ]
     },
     "execution_count": 19,
     "metadata": {},
     "output_type": "execute_result"
    },
    {
     "data": {
      "image/png": "[encoded data removed]",
      "text/plain": [
       "<Figure size 432x288 with 1 Axes>"
      ]
     },
     "metadata": {
      "needs_background": "light"
     },
     "output_type": "display_data"
    }
   ],
   "source": [
    "data['emp_length_int'].value_counts().plot(kind='bar')"
   ]
  },
  {
   "cell_type": "code",
   "execution_count": 20,
   "metadata": {},
   "outputs": [
    {
     "data": {
      "text/plain": [
       "Index(['emp_length_int', 'annual_inc', 'loan_amount', 'purpose_cat',\n",
       "       'interest_rate', 'dti', 'total_pymnt', 'total_rec_prncp', 'recoveries',\n",
       "       'installment'],\n",
       "      dtype='object')"
      ]
     },
     "execution_count": 20,
     "metadata": {},
     "output_type": "execute_result"
    }
   ],
   "source": [
    "data._get_numeric_data().columns"
   ]
  },
  {
   "cell_type": "code",
   "execution_count": 21,
   "metadata": {},
   "outputs": [
    {
     "data": {
      "text/plain": [
       "'There are 10 numeric columns in the data set'"
      ]
     },
     "execution_count": 21,
     "metadata": {},
     "output_type": "execute_result"
    }
   ],
   "source": [
    "\"There are {} numeric columns in the data set\".format(len(data._get_numeric_data().columns) ) "
   ]
  },
  {
   "cell_type": "code",
   "execution_count": 22,
   "metadata": {},
   "outputs": [
    {
     "data": {
      "text/plain": [
       "Index(['home_ownership', 'income_category', 'term', 'application_type',\n",
       "       'purpose', 'interest_payments', 'loan_condition', 'grade', 'region'],\n",
       "      dtype='object')"
      ]
     },
     "execution_count": 22,
     "metadata": {},
     "output_type": "execute_result"
    }
   ],
   "source": [
    "data.select_dtypes(include=['object']).columns"
   ]
  },
  {
   "cell_type": "code",
   "execution_count": 23,
   "metadata": {},
   "outputs": [
    {
     "data": {
      "text/plain": [
       "'There are 8 Character columns in the data set (minus the target)'"
      ]
     },
     "execution_count": 23,
     "metadata": {},
     "output_type": "execute_result"
    }
   ],
   "source": [
    "\"There are {} Character columns in the data set (minus the target)\".format(len(data.select_dtypes(include=['object']).columns) -1) "
   ]
  },
  {
   "cell_type": "code",
   "execution_count": 27,
   "metadata": {},
   "outputs": [],
   "source": [
    "X = data.drop(\"income_category\", axis=1, inplace = False)\n",
    "y = data.income_category"
   ]
  },
  {
   "cell_type": "code",
   "execution_count": 28,
   "metadata": {},
   "outputs": [
    {
     "data": {
      "text/plain": [
       "70467     Low\n",
       "165635    Low\n",
       "496523    Low\n",
       "182496    Low\n",
       "554977    Low\n",
       "Name: income_category, dtype: object"
      ]
     },
     "execution_count": 28,
     "metadata": {},
     "output_type": "execute_result"
    }
   ],
   "source": [
    "y.head()"
   ]
  },
  {
   "cell_type": "code",
   "execution_count": 29,
   "metadata": {},
   "outputs": [],
   "source": [
    "def model_matrix(df , columns):\n",
    "    dummified_cols = pd.get_dummies(df[columns])\n",
    "    df = df.drop(columns, axis = 1, inplace=False)\n",
    "    df_new = df.join(dummified_cols)\n",
    "    return df_new\n",
    "\n",
    "X = model_matrix(X, ['home_ownership', 'term', 'application_type',\n",
    "       'purpose', 'interest_payments', 'loan_condition', 'grade', 'region'])"
   ]
  },
  {
   "cell_type": "code",
   "execution_count": 30,
   "metadata": {},
   "outputs": [
    {
     "data": {
      "text/html": [
       "<div>\n",
       "<style scoped>\n",
       "    .dataframe tbody tr th:only-of-type {\n",
       "        vertical-align: middle;\n",
       "    }\n",
       "\n",
       "    .dataframe tbody tr th {\n",
       "        vertical-align: top;\n",
       "    }\n",
       "\n",
       "    .dataframe thead th {\n",
       "        text-align: right;\n",
       "    }\n",
       "</style>\n",
       "<table border=\"1\" class=\"dataframe\">\n",
       "  <thead>\n",
       "    <tr style=\"text-align: right;\">\n",
       "      <th></th>\n",
       "      <th>emp_length_int</th>\n",
       "      <th>annual_inc</th>\n",
       "      <th>loan_amount</th>\n",
       "      <th>purpose_cat</th>\n",
       "      <th>interest_rate</th>\n",
       "      <th>dti</th>\n",
       "      <th>total_pymnt</th>\n",
       "      <th>total_rec_prncp</th>\n",
       "      <th>recoveries</th>\n",
       "      <th>installment</th>\n",
       "      <th>...</th>\n",
       "      <th>grade_C</th>\n",
       "      <th>grade_D</th>\n",
       "      <th>grade_E</th>\n",
       "      <th>grade_F</th>\n",
       "      <th>grade_G</th>\n",
       "      <th>region_Northern-Irl</th>\n",
       "      <th>region_cannught</th>\n",
       "      <th>region_leinster</th>\n",
       "      <th>region_munster</th>\n",
       "      <th>region_ulster</th>\n",
       "    </tr>\n",
       "  </thead>\n",
       "  <tbody>\n",
       "    <tr>\n",
       "      <th>70467</th>\n",
       "      <td>10.00</td>\n",
       "      <td>96000</td>\n",
       "      <td>13000</td>\n",
       "      <td>7</td>\n",
       "      <td>9.67</td>\n",
       "      <td>22.75</td>\n",
       "      <td>10852.030000</td>\n",
       "      <td>9003.16</td>\n",
       "      <td>0.0</td>\n",
       "      <td>417.47</td>\n",
       "      <td>...</td>\n",
       "      <td>0</td>\n",
       "      <td>0</td>\n",
       "      <td>0</td>\n",
       "      <td>0</td>\n",
       "      <td>0</td>\n",
       "      <td>0</td>\n",
       "      <td>0</td>\n",
       "      <td>0</td>\n",
       "      <td>1</td>\n",
       "      <td>0</td>\n",
       "    </tr>\n",
       "    <tr>\n",
       "      <th>165635</th>\n",
       "      <td>6.00</td>\n",
       "      <td>58000</td>\n",
       "      <td>8000</td>\n",
       "      <td>6</td>\n",
       "      <td>13.11</td>\n",
       "      <td>17.46</td>\n",
       "      <td>9627.426447</td>\n",
       "      <td>8000.00</td>\n",
       "      <td>0.0</td>\n",
       "      <td>269.98</td>\n",
       "      <td>...</td>\n",
       "      <td>0</td>\n",
       "      <td>0</td>\n",
       "      <td>0</td>\n",
       "      <td>0</td>\n",
       "      <td>0</td>\n",
       "      <td>0</td>\n",
       "      <td>1</td>\n",
       "      <td>0</td>\n",
       "      <td>0</td>\n",
       "      <td>0</td>\n",
       "    </tr>\n",
       "    <tr>\n",
       "      <th>496523</th>\n",
       "      <td>6.05</td>\n",
       "      <td>52000</td>\n",
       "      <td>10000</td>\n",
       "      <td>6</td>\n",
       "      <td>10.64</td>\n",
       "      <td>25.04</td>\n",
       "      <td>313.870000</td>\n",
       "      <td>237.02</td>\n",
       "      <td>0.0</td>\n",
       "      <td>325.69</td>\n",
       "      <td>...</td>\n",
       "      <td>0</td>\n",
       "      <td>0</td>\n",
       "      <td>0</td>\n",
       "      <td>0</td>\n",
       "      <td>0</td>\n",
       "      <td>0</td>\n",
       "      <td>0</td>\n",
       "      <td>0</td>\n",
       "      <td>1</td>\n",
       "      <td>0</td>\n",
       "    </tr>\n",
       "    <tr>\n",
       "      <th>182496</th>\n",
       "      <td>10.00</td>\n",
       "      <td>90000</td>\n",
       "      <td>16000</td>\n",
       "      <td>6</td>\n",
       "      <td>15.80</td>\n",
       "      <td>18.16</td>\n",
       "      <td>16211.070000</td>\n",
       "      <td>16000.00</td>\n",
       "      <td>0.0</td>\n",
       "      <td>560.94</td>\n",
       "      <td>...</td>\n",
       "      <td>1</td>\n",
       "      <td>0</td>\n",
       "      <td>0</td>\n",
       "      <td>0</td>\n",
       "      <td>0</td>\n",
       "      <td>1</td>\n",
       "      <td>0</td>\n",
       "      <td>0</td>\n",
       "      <td>0</td>\n",
       "      <td>0</td>\n",
       "    </tr>\n",
       "    <tr>\n",
       "      <th>554977</th>\n",
       "      <td>10.00</td>\n",
       "      <td>75000</td>\n",
       "      <td>10000</td>\n",
       "      <td>6</td>\n",
       "      <td>7.89</td>\n",
       "      <td>8.47</td>\n",
       "      <td>616.950000</td>\n",
       "      <td>495.84</td>\n",
       "      <td>0.0</td>\n",
       "      <td>312.86</td>\n",
       "      <td>...</td>\n",
       "      <td>0</td>\n",
       "      <td>0</td>\n",
       "      <td>0</td>\n",
       "      <td>0</td>\n",
       "      <td>0</td>\n",
       "      <td>0</td>\n",
       "      <td>0</td>\n",
       "      <td>0</td>\n",
       "      <td>0</td>\n",
       "      <td>1</td>\n",
       "    </tr>\n",
       "  </tbody>\n",
       "</table>\n",
       "<p>5 rows × 49 columns</p>\n",
       "</div>"
      ],
      "text/plain": [
       "        emp_length_int  annual_inc  loan_amount  purpose_cat  interest_rate  \\\n",
       "70467            10.00       96000        13000            7           9.67   \n",
       "165635            6.00       58000         8000            6          13.11   \n",
       "496523            6.05       52000        10000            6          10.64   \n",
       "182496           10.00       90000        16000            6          15.80   \n",
       "554977           10.00       75000        10000            6           7.89   \n",
       "\n",
       "          dti   total_pymnt  total_rec_prncp  recoveries  installment  \\\n",
       "70467   22.75  10852.030000          9003.16         0.0       417.47   \n",
       "165635  17.46   9627.426447          8000.00         0.0       269.98   \n",
       "496523  25.04    313.870000           237.02         0.0       325.69   \n",
       "182496  18.16  16211.070000         16000.00         0.0       560.94   \n",
       "554977   8.47    616.950000           495.84         0.0       312.86   \n",
       "\n",
       "            ...        grade_C  grade_D  grade_E  grade_F  grade_G  \\\n",
       "70467       ...              0        0        0        0        0   \n",
       "165635      ...              0        0        0        0        0   \n",
       "496523      ...              0        0        0        0        0   \n",
       "182496      ...              1        0        0        0        0   \n",
       "554977      ...              0        0        0        0        0   \n",
       "\n",
       "        region_Northern-Irl  region_cannught  region_leinster  region_munster  \\\n",
       "70467                     0                0                0               1   \n",
       "165635                    0                1                0               0   \n",
       "496523                    0                0                0               1   \n",
       "182496                    1                0                0               0   \n",
       "554977                    0                0                0               0   \n",
       "\n",
       "        region_ulster  \n",
       "70467               0  \n",
       "165635              0  \n",
       "496523              0  \n",
       "182496              0  \n",
       "554977              1  \n",
       "\n",
       "[5 rows x 49 columns]"
      ]
     },
     "execution_count": 30,
     "metadata": {},
     "output_type": "execute_result"
    }
   ],
   "source": [
    "X.head()"
   ]
  },
  {
   "cell_type": "code",
   "execution_count": 31,
   "metadata": {},
   "outputs": [
    {
     "data": {
      "text/plain": [
       "(44369, 49)"
      ]
     },
     "execution_count": 31,
     "metadata": {},
     "output_type": "execute_result"
    }
   ],
   "source": [
    "X.shape"
   ]
  },
  {
   "cell_type": "code",
   "execution_count": 32,
   "metadata": {},
   "outputs": [
    {
     "data": {
      "text/html": [
       "<div>\n",
       "<style scoped>\n",
       "    .dataframe tbody tr th:only-of-type {\n",
       "        vertical-align: middle;\n",
       "    }\n",
       "\n",
       "    .dataframe tbody tr th {\n",
       "        vertical-align: top;\n",
       "    }\n",
       "\n",
       "    .dataframe thead th {\n",
       "        text-align: right;\n",
       "    }\n",
       "</style>\n",
       "<table border=\"1\" class=\"dataframe\">\n",
       "  <thead>\n",
       "    <tr style=\"text-align: right;\">\n",
       "      <th></th>\n",
       "      <th>emp_length_int</th>\n",
       "      <th>annual_inc</th>\n",
       "      <th>loan_amount</th>\n",
       "      <th>purpose_cat</th>\n",
       "      <th>interest_rate</th>\n",
       "      <th>dti</th>\n",
       "      <th>total_pymnt</th>\n",
       "      <th>total_rec_prncp</th>\n",
       "      <th>recoveries</th>\n",
       "      <th>installment</th>\n",
       "      <th>...</th>\n",
       "      <th>grade_C</th>\n",
       "      <th>grade_D</th>\n",
       "      <th>grade_E</th>\n",
       "      <th>grade_F</th>\n",
       "      <th>grade_G</th>\n",
       "      <th>region_Northern-Irl</th>\n",
       "      <th>region_cannught</th>\n",
       "      <th>region_leinster</th>\n",
       "      <th>region_munster</th>\n",
       "      <th>region_ulster</th>\n",
       "    </tr>\n",
       "  </thead>\n",
       "  <tbody>\n",
       "    <tr>\n",
       "      <th>70467</th>\n",
       "      <td>10.00</td>\n",
       "      <td>96000</td>\n",
       "      <td>13000</td>\n",
       "      <td>7</td>\n",
       "      <td>9.67</td>\n",
       "      <td>22.75</td>\n",
       "      <td>10852.030000</td>\n",
       "      <td>9003.16</td>\n",
       "      <td>0.0</td>\n",
       "      <td>417.47</td>\n",
       "      <td>...</td>\n",
       "      <td>0</td>\n",
       "      <td>0</td>\n",
       "      <td>0</td>\n",
       "      <td>0</td>\n",
       "      <td>0</td>\n",
       "      <td>0</td>\n",
       "      <td>0</td>\n",
       "      <td>0</td>\n",
       "      <td>1</td>\n",
       "      <td>0</td>\n",
       "    </tr>\n",
       "    <tr>\n",
       "      <th>165635</th>\n",
       "      <td>6.00</td>\n",
       "      <td>58000</td>\n",
       "      <td>8000</td>\n",
       "      <td>6</td>\n",
       "      <td>13.11</td>\n",
       "      <td>17.46</td>\n",
       "      <td>9627.426447</td>\n",
       "      <td>8000.00</td>\n",
       "      <td>0.0</td>\n",
       "      <td>269.98</td>\n",
       "      <td>...</td>\n",
       "      <td>0</td>\n",
       "      <td>0</td>\n",
       "      <td>0</td>\n",
       "      <td>0</td>\n",
       "      <td>0</td>\n",
       "      <td>0</td>\n",
       "      <td>1</td>\n",
       "      <td>0</td>\n",
       "      <td>0</td>\n",
       "      <td>0</td>\n",
       "    </tr>\n",
       "    <tr>\n",
       "      <th>496523</th>\n",
       "      <td>6.05</td>\n",
       "      <td>52000</td>\n",
       "      <td>10000</td>\n",
       "      <td>6</td>\n",
       "      <td>10.64</td>\n",
       "      <td>25.04</td>\n",
       "      <td>313.870000</td>\n",
       "      <td>237.02</td>\n",
       "      <td>0.0</td>\n",
       "      <td>325.69</td>\n",
       "      <td>...</td>\n",
       "      <td>0</td>\n",
       "      <td>0</td>\n",
       "      <td>0</td>\n",
       "      <td>0</td>\n",
       "      <td>0</td>\n",
       "      <td>0</td>\n",
       "      <td>0</td>\n",
       "      <td>0</td>\n",
       "      <td>1</td>\n",
       "      <td>0</td>\n",
       "    </tr>\n",
       "    <tr>\n",
       "      <th>182496</th>\n",
       "      <td>10.00</td>\n",
       "      <td>90000</td>\n",
       "      <td>16000</td>\n",
       "      <td>6</td>\n",
       "      <td>15.80</td>\n",
       "      <td>18.16</td>\n",
       "      <td>16211.070000</td>\n",
       "      <td>16000.00</td>\n",
       "      <td>0.0</td>\n",
       "      <td>560.94</td>\n",
       "      <td>...</td>\n",
       "      <td>1</td>\n",
       "      <td>0</td>\n",
       "      <td>0</td>\n",
       "      <td>0</td>\n",
       "      <td>0</td>\n",
       "      <td>1</td>\n",
       "      <td>0</td>\n",
       "      <td>0</td>\n",
       "      <td>0</td>\n",
       "      <td>0</td>\n",
       "    </tr>\n",
       "    <tr>\n",
       "      <th>554977</th>\n",
       "      <td>10.00</td>\n",
       "      <td>75000</td>\n",
       "      <td>10000</td>\n",
       "      <td>6</td>\n",
       "      <td>7.89</td>\n",
       "      <td>8.47</td>\n",
       "      <td>616.950000</td>\n",
       "      <td>495.84</td>\n",
       "      <td>0.0</td>\n",
       "      <td>312.86</td>\n",
       "      <td>...</td>\n",
       "      <td>0</td>\n",
       "      <td>0</td>\n",
       "      <td>0</td>\n",
       "      <td>0</td>\n",
       "      <td>0</td>\n",
       "      <td>0</td>\n",
       "      <td>0</td>\n",
       "      <td>0</td>\n",
       "      <td>0</td>\n",
       "      <td>1</td>\n",
       "    </tr>\n",
       "  </tbody>\n",
       "</table>\n",
       "<p>5 rows × 49 columns</p>\n",
       "</div>"
      ],
      "text/plain": [
       "        emp_length_int  annual_inc  loan_amount  purpose_cat  interest_rate  \\\n",
       "70467            10.00       96000        13000            7           9.67   \n",
       "165635            6.00       58000         8000            6          13.11   \n",
       "496523            6.05       52000        10000            6          10.64   \n",
       "182496           10.00       90000        16000            6          15.80   \n",
       "554977           10.00       75000        10000            6           7.89   \n",
       "\n",
       "          dti   total_pymnt  total_rec_prncp  recoveries  installment  \\\n",
       "70467   22.75  10852.030000          9003.16         0.0       417.47   \n",
       "165635  17.46   9627.426447          8000.00         0.0       269.98   \n",
       "496523  25.04    313.870000           237.02         0.0       325.69   \n",
       "182496  18.16  16211.070000         16000.00         0.0       560.94   \n",
       "554977   8.47    616.950000           495.84         0.0       312.86   \n",
       "\n",
       "            ...        grade_C  grade_D  grade_E  grade_F  grade_G  \\\n",
       "70467       ...              0        0        0        0        0   \n",
       "165635      ...              0        0        0        0        0   \n",
       "496523      ...              0        0        0        0        0   \n",
       "182496      ...              1        0        0        0        0   \n",
       "554977      ...              0        0        0        0        0   \n",
       "\n",
       "        region_Northern-Irl  region_cannught  region_leinster  region_munster  \\\n",
       "70467                     0                0                0               1   \n",
       "165635                    0                1                0               0   \n",
       "496523                    0                0                0               1   \n",
       "182496                    1                0                0               0   \n",
       "554977                    0                0                0               0   \n",
       "\n",
       "        region_ulster  \n",
       "70467               0  \n",
       "165635              0  \n",
       "496523              0  \n",
       "182496              0  \n",
       "554977              1  \n",
       "\n",
       "[5 rows x 49 columns]"
      ]
     },
     "execution_count": 32,
     "metadata": {},
     "output_type": "execute_result"
    }
   ],
   "source": [
    "# impute rows with NaN with a 0 for now\n",
    "X2 = X.fillna(value = 0)\n",
    "X2.head()"
   ]
  },
  {
   "cell_type": "code",
   "execution_count": 33,
   "metadata": {},
   "outputs": [],
   "source": [
    "from sklearn.preprocessing import MinMaxScaler\n",
    "\n",
    "Scaler = MinMaxScaler()\n",
    "\n",
    "X2[['emp_length_int', 'annual_inc', 'loan_amount', 'purpose_cat',\n",
    "       'interest_rate', 'dti', 'total_pymnt', 'total_rec_prncp', 'recoveries',\n",
    "       'installment']] = Scaler.fit_transform(X2[['emp_length_int', 'annual_inc', 'loan_amount', 'purpose_cat',\n",
    "       'interest_rate', 'dti', 'total_pymnt', 'total_rec_prncp', 'recoveries',\n",
    "       'installment']])"
   ]
  },
  {
   "cell_type": "code",
   "execution_count": 34,
   "metadata": {},
   "outputs": [
    {
     "data": {
      "text/html": [
       "<div>\n",
       "<style scoped>\n",
       "    .dataframe tbody tr th:only-of-type {\n",
       "        vertical-align: middle;\n",
       "    }\n",
       "\n",
       "    .dataframe tbody tr th {\n",
       "        vertical-align: top;\n",
       "    }\n",
       "\n",
       "    .dataframe thead th {\n",
       "        text-align: right;\n",
       "    }\n",
       "</style>\n",
       "<table border=\"1\" class=\"dataframe\">\n",
       "  <thead>\n",
       "    <tr style=\"text-align: right;\">\n",
       "      <th></th>\n",
       "      <th>emp_length_int</th>\n",
       "      <th>annual_inc</th>\n",
       "      <th>loan_amount</th>\n",
       "      <th>purpose_cat</th>\n",
       "      <th>interest_rate</th>\n",
       "      <th>dti</th>\n",
       "      <th>total_pymnt</th>\n",
       "      <th>total_rec_prncp</th>\n",
       "      <th>recoveries</th>\n",
       "      <th>installment</th>\n",
       "      <th>...</th>\n",
       "      <th>grade_C</th>\n",
       "      <th>grade_D</th>\n",
       "      <th>grade_E</th>\n",
       "      <th>grade_F</th>\n",
       "      <th>grade_G</th>\n",
       "      <th>region_Northern-Irl</th>\n",
       "      <th>region_cannught</th>\n",
       "      <th>region_leinster</th>\n",
       "      <th>region_munster</th>\n",
       "      <th>region_ulster</th>\n",
       "    </tr>\n",
       "  </thead>\n",
       "  <tbody>\n",
       "    <tr>\n",
       "      <th>70467</th>\n",
       "      <td>1.000000</td>\n",
       "      <td>0.015803</td>\n",
       "      <td>0.362319</td>\n",
       "      <td>0.461538</td>\n",
       "      <td>0.183777</td>\n",
       "      <td>0.033828</td>\n",
       "      <td>0.196791</td>\n",
       "      <td>0.257233</td>\n",
       "      <td>0.0</td>\n",
       "      <td>0.293954</td>\n",
       "      <td>...</td>\n",
       "      <td>0</td>\n",
       "      <td>0</td>\n",
       "      <td>0</td>\n",
       "      <td>0</td>\n",
       "      <td>0</td>\n",
       "      <td>0</td>\n",
       "      <td>0</td>\n",
       "      <td>0</td>\n",
       "      <td>1</td>\n",
       "      <td>0</td>\n",
       "    </tr>\n",
       "    <tr>\n",
       "      <th>165635</th>\n",
       "      <td>0.578947</td>\n",
       "      <td>0.009469</td>\n",
       "      <td>0.217391</td>\n",
       "      <td>0.384615</td>\n",
       "      <td>0.329109</td>\n",
       "      <td>0.025962</td>\n",
       "      <td>0.174584</td>\n",
       "      <td>0.228571</td>\n",
       "      <td>0.0</td>\n",
       "      <td>0.186030</td>\n",
       "      <td>...</td>\n",
       "      <td>0</td>\n",
       "      <td>0</td>\n",
       "      <td>0</td>\n",
       "      <td>0</td>\n",
       "      <td>0</td>\n",
       "      <td>0</td>\n",
       "      <td>1</td>\n",
       "      <td>0</td>\n",
       "      <td>0</td>\n",
       "      <td>0</td>\n",
       "    </tr>\n",
       "    <tr>\n",
       "      <th>496523</th>\n",
       "      <td>0.584211</td>\n",
       "      <td>0.008468</td>\n",
       "      <td>0.275362</td>\n",
       "      <td>0.384615</td>\n",
       "      <td>0.224757</td>\n",
       "      <td>0.037233</td>\n",
       "      <td>0.005692</td>\n",
       "      <td>0.006772</td>\n",
       "      <td>0.0</td>\n",
       "      <td>0.226795</td>\n",
       "      <td>...</td>\n",
       "      <td>0</td>\n",
       "      <td>0</td>\n",
       "      <td>0</td>\n",
       "      <td>0</td>\n",
       "      <td>0</td>\n",
       "      <td>0</td>\n",
       "      <td>0</td>\n",
       "      <td>0</td>\n",
       "      <td>1</td>\n",
       "      <td>0</td>\n",
       "    </tr>\n",
       "    <tr>\n",
       "      <th>182496</th>\n",
       "      <td>1.000000</td>\n",
       "      <td>0.014803</td>\n",
       "      <td>0.449275</td>\n",
       "      <td>0.384615</td>\n",
       "      <td>0.442755</td>\n",
       "      <td>0.027003</td>\n",
       "      <td>0.293972</td>\n",
       "      <td>0.457143</td>\n",
       "      <td>0.0</td>\n",
       "      <td>0.398936</td>\n",
       "      <td>...</td>\n",
       "      <td>1</td>\n",
       "      <td>0</td>\n",
       "      <td>0</td>\n",
       "      <td>0</td>\n",
       "      <td>0</td>\n",
       "      <td>1</td>\n",
       "      <td>0</td>\n",
       "      <td>0</td>\n",
       "      <td>0</td>\n",
       "      <td>0</td>\n",
       "    </tr>\n",
       "    <tr>\n",
       "      <th>554977</th>\n",
       "      <td>1.000000</td>\n",
       "      <td>0.012302</td>\n",
       "      <td>0.275362</td>\n",
       "      <td>0.384615</td>\n",
       "      <td>0.108576</td>\n",
       "      <td>0.012594</td>\n",
       "      <td>0.011188</td>\n",
       "      <td>0.014167</td>\n",
       "      <td>0.0</td>\n",
       "      <td>0.217407</td>\n",
       "      <td>...</td>\n",
       "      <td>0</td>\n",
       "      <td>0</td>\n",
       "      <td>0</td>\n",
       "      <td>0</td>\n",
       "      <td>0</td>\n",
       "      <td>0</td>\n",
       "      <td>0</td>\n",
       "      <td>0</td>\n",
       "      <td>0</td>\n",
       "      <td>1</td>\n",
       "    </tr>\n",
       "  </tbody>\n",
       "</table>\n",
       "<p>5 rows × 49 columns</p>\n",
       "</div>"
      ],
      "text/plain": [
       "        emp_length_int  annual_inc  loan_amount  purpose_cat  interest_rate  \\\n",
       "70467         1.000000    0.015803     0.362319     0.461538       0.183777   \n",
       "165635        0.578947    0.009469     0.217391     0.384615       0.329109   \n",
       "496523        0.584211    0.008468     0.275362     0.384615       0.224757   \n",
       "182496        1.000000    0.014803     0.449275     0.384615       0.442755   \n",
       "554977        1.000000    0.012302     0.275362     0.384615       0.108576   \n",
       "\n",
       "             dti  total_pymnt  total_rec_prncp  recoveries  installment  \\\n",
       "70467   0.033828     0.196791         0.257233         0.0     0.293954   \n",
       "165635  0.025962     0.174584         0.228571         0.0     0.186030   \n",
       "496523  0.037233     0.005692         0.006772         0.0     0.226795   \n",
       "182496  0.027003     0.293972         0.457143         0.0     0.398936   \n",
       "554977  0.012594     0.011188         0.014167         0.0     0.217407   \n",
       "\n",
       "            ...        grade_C  grade_D  grade_E  grade_F  grade_G  \\\n",
       "70467       ...              0        0        0        0        0   \n",
       "165635      ...              0        0        0        0        0   \n",
       "496523      ...              0        0        0        0        0   \n",
       "182496      ...              1        0        0        0        0   \n",
       "554977      ...              0        0        0        0        0   \n",
       "\n",
       "        region_Northern-Irl  region_cannught  region_leinster  region_munster  \\\n",
       "70467                     0                0                0               1   \n",
       "165635                    0                1                0               0   \n",
       "496523                    0                0                0               1   \n",
       "182496                    1                0                0               0   \n",
       "554977                    0                0                0               0   \n",
       "\n",
       "        region_ulster  \n",
       "70467               0  \n",
       "165635              0  \n",
       "496523              0  \n",
       "182496              0  \n",
       "554977              1  \n",
       "\n",
       "[5 rows x 49 columns]"
      ]
     },
     "execution_count": 34,
     "metadata": {},
     "output_type": "execute_result"
    }
   ],
   "source": [
    "X2.head()"
   ]
  },
  {
   "cell_type": "code",
   "execution_count": 35,
   "metadata": {},
   "outputs": [],
   "source": [
    "x_train, x_test, y_train, y_test = train_test_split(X2, y, test_size=.3, random_state=123)"
   ]
  },
  {
   "cell_type": "code",
   "execution_count": 36,
   "metadata": {},
   "outputs": [
    {
     "name": "stdout",
     "output_type": "stream",
     "text": [
      "(31058, 49)\n",
      "(31058,)\n",
      "(13311, 49)\n",
      "(13311,)\n"
     ]
    }
   ],
   "source": [
    "print(x_train.shape)\n",
    "print(y_train.shape)\n",
    "print(x_test.shape)\n",
    "print(y_test.shape)"
   ]
  },
  {
   "cell_type": "code",
   "execution_count": 37,
   "metadata": {},
   "outputs": [
    {
     "data": {
      "text/plain": [
       "KNeighborsClassifier(algorithm='auto', leaf_size=30, metric='euclidean',\n",
       "           metric_params=None, n_jobs=1, n_neighbors=10, p=2,\n",
       "           weights='uniform')"
      ]
     },
     "execution_count": 37,
     "metadata": {},
     "output_type": "execute_result"
    }
   ],
   "source": [
    "# start out with the number of classes for neighbors\n",
    "data_knn = KNeighborsClassifier(n_neighbors = 10, metric='euclidean')\n",
    "data_knn"
   ]
  },
  {
   "cell_type": "code",
   "execution_count": 38,
   "metadata": {},
   "outputs": [
    {
     "data": {
      "text/plain": [
       "KNeighborsClassifier(algorithm='auto', leaf_size=30, metric='euclidean',\n",
       "           metric_params=None, n_jobs=1, n_neighbors=10, p=2,\n",
       "           weights='uniform')"
      ]
     },
     "execution_count": 38,
     "metadata": {},
     "output_type": "execute_result"
    }
   ],
   "source": [
    "data_knn.fit(x_train, y_train)"
   ]
  },
  {
   "cell_type": "code",
   "execution_count": 39,
   "metadata": {},
   "outputs": [
    {
     "name": "stdout",
     "output_type": "stream",
     "text": [
      "Training data R-squared:\n",
      "0.8336338463519866\n",
      "Test data R-squared:\n",
      "0.8242055442866801\n"
     ]
    }
   ],
   "source": [
    "# R-square from training and test data\n",
    "rsquared_train = data_knn.score(x_train, y_train)\n",
    "rsquared_test = data_knn.score(x_test, y_test)\n",
    "print ('Training data R-squared:')\n",
    "print(rsquared_train)\n",
    "print ('Test data R-squared:')\n",
    "print(rsquared_test)"
   ]
  },
  {
   "cell_type": "code",
   "execution_count": 40,
   "metadata": {},
   "outputs": [
    {
     "name": "stdout",
     "output_type": "stream",
     "text": [
      "The Confusion matrix:\n",
      " [[    0   227    41]\n",
      " [    0 10781   167]\n",
      " [    0  1905   190]]\n"
     ]
    }
   ],
   "source": [
    "# confusion matrix\n",
    "from sklearn.metrics import confusion_matrix\n",
    "\n",
    "knn_confusion_matrix = confusion_matrix(y_true = y_test, y_pred = data_knn.predict(x_test))\n",
    "print(\"The Confusion matrix:\\n\", knn_confusion_matrix)"
   ]
  },
  {
   "cell_type": "code",
   "execution_count": 41,
   "metadata": {},
   "outputs": [
    {
     "data": {
      "image/png": "[encoded data removed]",
      "text/plain": [
       "<Figure size 288x288 with 1 Axes>"
      ]
     },
     "metadata": {
      "needs_background": "light"
     },
     "output_type": "display_data"
    }
   ],
   "source": [
    "# visualize the confusion matrix\n",
    "# http://scikit-learn.org/stable/auto_examples/model_selection/plot_confusion_matrix.html\n",
    "plt.matshow(knn_confusion_matrix, cmap = plt.cm.Blues)\n",
    "plt.title(\"KNN Confusion Matrix\\n\")\n",
    "#plt.xticks([0,1], ['No', 'Yes'])\n",
    "#plt.yticks([0,1], ['No', 'Yes'])\n",
    "plt.ylabel('True label')\n",
    "plt.xlabel('Predicted label')\n",
    "for y in range(knn_confusion_matrix.shape[0]):\n",
    "    for x in range(knn_confusion_matrix.shape[1]):\n",
    "        plt.text(x, y, '{}'.format(knn_confusion_matrix[y, x]),\n",
    "                horizontalalignment = 'center',\n",
    "                verticalalignment = 'center',)\n",
    "plt.show()"
   ]
  },
  {
   "cell_type": "code",
   "execution_count": 42,
   "metadata": {},
   "outputs": [
    {
     "name": "stdout",
     "output_type": "stream",
     "text": [
      "             precision    recall  f1-score   support\n",
      "\n",
      "       High       0.00      0.00      0.00       268\n",
      "        Low       0.83      0.98      0.90     10948\n",
      "     Medium       0.48      0.09      0.15      2095\n",
      "\n",
      "avg / total       0.76      0.82      0.77     13311\n",
      "\n"
     ]
    },
    {
     "name": "stderr",
     "output_type": "stream",
     "text": [
      "C:\\Users\\gtara\\Anaconda3\\lib\\site-packages\\sklearn\\metrics\\classification.py:1135: UndefinedMetricWarning: Precision and F-score are ill-defined and being set to 0.0 in labels with no predicted samples.\n",
      "  'precision', 'predicted', average, warn_for)\n"
     ]
    }
   ],
   "source": [
    "#Generate the classification report\n",
    "from sklearn.metrics import classification_report\n",
    "knn_classify_report = classification_report(y_true = y_test, \n",
    "                                           y_pred = data_knn.predict(x_test))\n",
    "print(knn_classify_report)"
   ]
  },
  {
   "cell_type": "code",
   "execution_count": null,
   "metadata": {},
   "outputs": [],
   "source": []
  }
 ],
 "metadata": {
  "kernelspec": {
   "display_name": "Python 3",
   "language": "python",
   "name": "python3"
  },
  "language_info": {
   "codemirror_mode": {
    "name": "ipython",
    "version": 3
   },
   "file_extension": ".py",
   "mimetype": "text/x-python",
   "name": "python",
   "nbconvert_exporter": "python",
   "pygments_lexer": "ipython3",
   "version": "3.7.0"
  }
 },
 "nbformat": 4,
 "nbformat_minor": 2
}
