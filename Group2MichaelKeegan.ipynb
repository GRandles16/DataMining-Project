{
 "cells": [
  {
   "cell_type": "code",
   "execution_count": 4,
   "metadata": {},
   "outputs": [
    {
     "name": "stderr",
     "output_type": "stream",
     "text": [
      "C:\\Users\\mjs-laptop\\Anaconda3\\lib\\site-packages\\sklearn\\cross_validation.py:41: DeprecationWarning: This module was deprecated in version 0.18 in favor of the model_selection module into which all the refactored classes and functions are moved. Also note that the interface of the new CV iterators are different from that of this module. This module will be removed in 0.20.\n",
      "  \"This module will be removed in 0.20.\", DeprecationWarning)\n"
     ]
    }
   ],
   "source": [
    "import numpy as np\n",
    "\n",
    "import matplotlib as plt\n",
    "\n",
    "from sklearn import datasets\n",
    "\n",
    "from sklearn import metrics\n",
    "\n",
    "from sklearn.linear_model import LogisticRegression\n",
    "\n",
    "import pandas as pd\n",
    "\n",
    "#Import models from scikit learn module:\n",
    "from sklearn.cross_validation import KFold   #For K-fold cross validation\n",
    "from sklearn.ensemble import RandomForestClassifier\n",
    "from sklearn.tree import DecisionTreeClassifier, export_graphviz\n",
    "from sklearn import metrics"
   ]
  },
  {
   "cell_type": "code",
   "execution_count": 5,
   "metadata": {},
   "outputs": [],
   "source": [
    "df = pd.read_csv(\"C:/Users/mjs-laptop/Documents/GitHub/DataMining-Project/loan_final.csv\")"
   ]
  },
  {
   "cell_type": "code",
   "execution_count": 3,
   "metadata": {
    "scrolled": true
   },
   "outputs": [
    {
     "data": {
      "text/plain": [
       "id                      0\n",
       "year                    0\n",
       "issue_d                 0\n",
       "final_d                 0\n",
       "emp_length_int          0\n",
       "home_ownership          0\n",
       "home_ownership_cat      0\n",
       "income_category         0\n",
       "annual_inc              0\n",
       "income_cat              0\n",
       "loan_amount             0\n",
       "term                    0\n",
       "term_cat                0\n",
       "application_type        0\n",
       "application_type_cat    0\n",
       "purpose                 0\n",
       "purpose_cat             0\n",
       "interest_payments       0\n",
       "interest_payment_cat    0\n",
       "loan_condition          0\n",
       "loan_condition_cat      0\n",
       "interest_rate           0\n",
       "grade                   0\n",
       "grade_cat               0\n",
       "dti                     0\n",
       "total_pymnt             0\n",
       "total_rec_prncp         0\n",
       "recoveries              0\n",
       "installment             0\n",
       "region                  0\n",
       "dtype: int64"
      ]
     },
     "execution_count": 3,
     "metadata": {},
     "output_type": "execute_result"
    }
   ],
   "source": [
    "df.apply(lambda x: sum(x.isnull()),axis=0)"
   ]
  },
  {
   "cell_type": "code",
   "execution_count": 23,
   "metadata": {},
   "outputs": [
    {
     "name": "stdout",
     "output_type": "stream",
     "text": [
      "Accuracy : 92.401%\n",
      "Cross-Validation Score : 92.401%\n"
     ]
    }
   ],
   "source": [
    "#logistic regression with cross validaiton\n",
    "outcome_var = 'loan_condition_cat'\n",
    "model = LogisticRegression()\n",
    "predictor_var = ['interest_rate']\n",
    "classification_model(model, df,predictor_var,outcome_var)\n",
    "\n",
    "#Generic function for making a classification model and accessing performance:\n",
    "def classification_model(model, data, predictors, outcome):\n",
    "  #Fit the model:\n",
    "  model.fit(data[predictors],data[outcome])\n",
    "  \n",
    "  #Make predictions on training set:\n",
    "  predictions = model.predict(data[predictors])\n",
    "  \n",
    "  #Print accuracy\n",
    "  accuracy = metrics.accuracy_score(predictions,data[outcome])\n",
    "  print (\"Accuracy : %s\" % \"{0:.3%}\".format(accuracy))\n",
    "\n",
    "  #Perform k-fold cross-validation with 10 folds\n",
    "  kf = KFold(data.shape[0], n_folds=10)\n",
    "  error = []\n",
    "  for train, test in kf:\n",
    "    # Filter training data\n",
    "    train_predictors = (data[predictors].iloc[train,:])\n",
    "    \n",
    "    # The target we're using to train the algorithm.\n",
    "    train_target = data[outcome].iloc[train]\n",
    "    \n",
    "    # Training the algorithm using the predictors and target.\n",
    "    model.fit(train_predictors, train_target)\n",
    "    \n",
    "    #Record error from each cross-validation run\n",
    "    error.append(model.score(data[predictors].iloc[test,:], data[outcome].iloc[test]))\n",
    " \n",
    "  print (\"Cross-Validation Score : %s\" % \"{0:.3%}\".format(np.mean(error)))\n",
    "\n",
    "  #Fit the model again so that it can be refered outside the function:\n",
    "  model.fit(data[predictors],data[outcome])"
   ]
  },
  {
   "cell_type": "code",
   "execution_count": 24,
   "metadata": {},
   "outputs": [
    {
     "name": "stdout",
     "output_type": "stream",
     "text": [
      "Accuracy : 92.401%\n",
      "Cross-Validation Score : 92.401%\n"
     ]
    }
   ],
   "source": [
    "outcome_var = 'loan_condition_cat'\n",
    "model = LogisticRegression()\n",
    "predictor_var = ['interest_rate', 'loan_amount']\n",
    "classification_model(model, df,predictor_var,outcome_var)\n",
    "\n",
    "#Generic function for making a classification model and accessing performance:\n",
    "def classification_model(model, data, predictors, outcome):\n",
    "  #Fit the model:\n",
    "  model.fit(data[predictors],data[outcome])\n",
    "  \n",
    "  #Make predictions on training set:\n",
    "  predictions = model.predict(data[predictors])\n",
    "  \n",
    "  #Print accuracy\n",
    "  accuracy = metrics.accuracy_score(predictions,data[outcome])\n",
    "  print (\"Accuracy : %s\" % \"{0:.3%}\".format(accuracy))\n",
    "\n",
    "  #Perform k-fold cross-validation with 10 folds\n",
    "  kf = KFold(data.shape[0], n_folds=10)\n",
    "  error = []\n",
    "  for train, test in kf:\n",
    "    # Filter training data\n",
    "    train_predictors = (data[predictors].iloc[train,:])\n",
    "    \n",
    "    # The target we're using to train the algorithm.\n",
    "    train_target = data[outcome].iloc[train]\n",
    "    \n",
    "    # Training the algorithm using the predictors and target.\n",
    "    model.fit(train_predictors, train_target)\n",
    "    \n",
    "    #Record error from each cross-validation run\n",
    "    error.append(model.score(data[predictors].iloc[test,:], data[outcome].iloc[test]))\n",
    " \n",
    "  print (\"Cross-Validation Score : %s\" % \"{0:.3%}\".format(np.mean(error)))\n",
    "\n",
    "  #Fit the model again so that it can be refered outside the function:\n",
    "  model.fit(data[predictors],data[outcome])"
   ]
  },
  {
   "cell_type": "code",
   "execution_count": 25,
   "metadata": {},
   "outputs": [
    {
     "name": "stdout",
     "output_type": "stream",
     "text": [
      "Accuracy : 92.401%\n",
      "Cross-Validation Score : 92.401%\n"
     ]
    }
   ],
   "source": [
    "outcome_var = 'loan_condition_cat'\n",
    "model = LogisticRegression()\n",
    "predictor_var = ['interest_rate', 'loan_amount', 'purpose_cat']\n",
    "#classification_model(model, df,predictor_var,outcome_var)\n",
    "\n",
    "#Generic function for making a classification model and accessing performance:\n",
    "def classification_model(model, data, predictors, outcome):\n",
    "  #Fit the model:\n",
    "  model.fit(data[predictors],data[outcome])\n",
    "  \n",
    "  #Make predictions on training set:\n",
    "  predictions = model.predict(data[predictors])\n",
    "  \n",
    "  #Print accuracy\n",
    "  accuracy = metrics.accuracy_score(predictions,data[outcome])\n",
    "  print (\"Accuracy : %s\" % \"{0:.3%}\".format(accuracy))\n",
    "\n",
    "  #Perform k-fold cross-validation with 10 folds\n",
    "  kf = KFold(data.shape[0], n_folds=10)\n",
    "  error = []\n",
    "  for train, test in kf:\n",
    "    # Filter training data\n",
    "    train_predictors = (data[predictors].iloc[train,:])\n",
    "    \n",
    "    # The target we're using to train the algorithm.\n",
    "    train_target = data[outcome].iloc[train]\n",
    "    \n",
    "    # Training the algorithm using the predictors and target.\n",
    "    model.fit(train_predictors, train_target)\n",
    "    \n",
    "    #Record error from each cross-validation run\n",
    "    error.append(model.score(data[predictors].iloc[test,:], data[outcome].iloc[test]))\n",
    " \n",
    "  print (\"Cross-Validation Score : %s\" % \"{0:.3%}\".format(np.mean(error)))\n",
    "\n",
    "  #Fit the model again so that it can be refered outside the function:\n",
    "  model.fit(data[predictors],data[outcome])"
   ]
  },
  {
   "cell_type": "code",
   "execution_count": 47,
   "metadata": {},
   "outputs": [
    {
     "name": "stdout",
     "output_type": "stream",
     "text": [
      "Accuracy : 92.504%\n",
      "Cross-Validation Score : 92.504%\n"
     ]
    }
   ],
   "source": [
    "outcome_var = 'loan_condition_cat'\n",
    "model = LogisticRegression()\n",
    "predictor_var = ['interest_payment_cat','interest_rate', 'loan_amount', 'purpose_cat','total_pymnt','installment']\n",
    "classification_model(model, df,predictor_var,outcome_var)\n",
    "\n",
    "#Generic function for making a classification model and accessing performance:\n",
    "def classification_model(model, data, predictors, outcome):\n",
    "  #Fit the model:\n",
    "  model.fit(data[predictors],data[outcome])\n",
    "  \n",
    "  #Make predictions on training set:\n",
    "  predictions = model.predict(data[predictors])\n",
    "  \n",
    "  #Print accuracy\n",
    "  accuracy = metrics.accuracy_score(predictions,data[outcome])\n",
    "  print (\"Accuracy : %s\" % \"{0:.3%}\".format(accuracy))\n",
    "\n",
    "  #Perform k-fold cross-validation with 10 folds\n",
    "  kf = KFold(data.shape[0], n_folds=10)\n",
    "  error = []\n",
    "  for train, test in kf:\n",
    "    # Filter training data\n",
    "    train_predictors = (data[predictors].iloc[train,:])\n",
    "    \n",
    "    # The target we're using to train the algorithm.\n",
    "    train_target = data[outcome].iloc[train]\n",
    "    \n",
    "    # Training the algorithm using the predictors and target.\n",
    "    model.fit(train_predictors, train_target)\n",
    "    \n",
    "    #Record error from each cross-validation run\n",
    "    error.append(model.score(data[predictors].iloc[test,:], data[outcome].iloc[test]))\n",
    " \n",
    "  print (\"Cross-Validation Score : %s\" % \"{0:.3%}\".format(np.mean(error)))\n",
    "\n",
    "  #Fit the model again so that it can be refered outside the function:\n",
    "  model.fit(data[predictors],data[outcome])"
   ]
  },
  {
   "cell_type": "code",
   "execution_count": 30,
   "metadata": {},
   "outputs": [
    {
     "name": "stdout",
     "output_type": "stream",
     "text": [
      "Accuracy : 100.000%\n",
      "Cross-Validation Score : 100.000%\n"
     ]
    }
   ],
   "source": [
    "outcome_var = 'loan_condition_cat'\n",
    "model = LogisticRegression()\n",
    "predictor_var = ['loan_condition_cat']\n",
    "classification_model(model, df,predictor_var,outcome_var)\n",
    "\n",
    "#Generic function for making a classification model and accessing performance:\n",
    "def classification_model(model, data, predictors, outcome):\n",
    "  #Fit the model:\n",
    "  model.fit(data[predictors],data[outcome])\n",
    "  \n",
    "  #Make predictions on training set:\n",
    "  predictions = model.predict(data[predictors])\n",
    "  \n",
    "  #Print accuracy\n",
    "  accuracy = metrics.accuracy_score(predictions,data[outcome])\n",
    "  print (\"Accuracy : %s\" % \"{0:.3%}\".format(accuracy))\n",
    "\n",
    "  #Perform k-fold cross-validation with 10 folds\n",
    "  kf = KFold(data.shape[0], n_folds=10)\n",
    "  error = []\n",
    "  for train, test in kf:\n",
    "    # Filter training data\n",
    "    train_predictors = (data[predictors].iloc[train,:])\n",
    "    \n",
    "    # The target we're using to train the algorithm.\n",
    "    train_target = data[outcome].iloc[train]\n",
    "    \n",
    "    # Training the algorithm using the predictors and target.\n",
    "    model.fit(train_predictors, train_target)\n",
    "    \n",
    "    #Record error from each cross-validation run\n",
    "    error.append(model.score(data[predictors].iloc[test,:], data[outcome].iloc[test]))\n",
    " \n",
    "  print (\"Cross-Validation Score : %s\" % \"{0:.3%}\".format(np.mean(error)))\n",
    "\n",
    "  #Fit the model again so that it can be refered outside the function:\n",
    "  model.fit(data[predictors],data[outcome])"
   ]
  },
  {
   "cell_type": "code",
   "execution_count": 32,
   "metadata": {},
   "outputs": [
    {
     "name": "stdout",
     "output_type": "stream",
     "text": [
      "Accuracy : 93.254%\n",
      "Cross-Validation Score : 91.081%\n"
     ]
    }
   ],
   "source": [
    "#decission tree\n",
    "model = DecisionTreeClassifier()\n",
    "predictor_var = ['interest_payment_cat','interest_rate', 'loan_amount']\n",
    "classification_model(model, df,predictor_var,outcome_var)\n",
    "\n",
    "#Generic function for making a classification model and accessing performance:\n",
    "def classification_model(model, data, predictors, outcome):\n",
    "  #Fit the model:\n",
    "  model.fit(data[predictors],data[outcome])\n",
    "  \n",
    "  #Make predictions on training set:\n",
    "  predictions = model.predict(data[predictors])\n",
    "  \n",
    "  #Print accuracy\n",
    "  accuracy = metrics.accuracy_score(predictions,data[outcome])\n",
    "  print (\"Accuracy : %s\" % \"{0:.3%}\".format(accuracy))\n",
    "\n",
    "  #Perform k-fold cross-validation with 10 folds\n",
    "  kf = KFold(data.shape[0], n_folds=10)\n",
    "  error = []\n",
    "  for train, test in kf:\n",
    "    # Filter training data\n",
    "    train_predictors = (data[predictors].iloc[train,:])\n",
    "    \n",
    "    # The target we're using to train the algorithm.\n",
    "    train_target = data[outcome].iloc[train]\n",
    "    \n",
    "    # Training the algorithm using the predictors and target.\n",
    "    model.fit(train_predictors, train_target)\n",
    "    \n",
    "    #Record error from each cross-validation run\n",
    "    error.append(model.score(data[predictors].iloc[test,:], data[outcome].iloc[test]))\n",
    " \n",
    "  print (\"Cross-Validation Score : %s\" % \"{0:.3%}\".format(np.mean(error)))\n",
    "\n",
    "  #Fit the model again so that it can be refered outside the function:\n",
    "  model.fit(data[predictors],data[outcome])\n",
    "\n"
   ]
  },
  {
   "cell_type": "code",
   "execution_count": 33,
   "metadata": {},
   "outputs": [
    {
     "name": "stdout",
     "output_type": "stream",
     "text": [
      "Accuracy : 99.157%\n",
      "Cross-Validation Score : 58.025%\n"
     ]
    }
   ],
   "source": [
    "#decission tree\n",
    "model = DecisionTreeClassifier()\n",
    "predictor_var = ['total_pymnt','installment', 'term_cat']\n",
    "classification_model(model, df,predictor_var,outcome_var)\n",
    "\n",
    "#Generic function for making a classification model and accessing performance:\n",
    "def classification_model(model, data, predictors, outcome):\n",
    "  #Fit the model:\n",
    "  model.fit(data[predictors],data[outcome])\n",
    "  \n",
    "  #Make predictions on training set:\n",
    "  predictions = model.predict(data[predictors])\n",
    "  \n",
    "  #Print accuracy\n",
    "  accuracy = metrics.accuracy_score(predictions,data[outcome])\n",
    "  print (\"Accuracy : %s\" % \"{0:.3%}\".format(accuracy))\n",
    "\n",
    "  #Perform k-fold cross-validation with 10 folds\n",
    "  kf = KFold(data.shape[0], n_folds=10)\n",
    "  error = []\n",
    "  for train, test in kf:\n",
    "    # Filter training data\n",
    "    train_predictors = (data[predictors].iloc[train,:])\n",
    "    \n",
    "    # The target we're using to train the algorithm.\n",
    "    train_target = data[outcome].iloc[train]\n",
    "    \n",
    "    # Training the algorithm using the predictors and target.\n",
    "    model.fit(train_predictors, train_target)\n",
    "    \n",
    "    #Record error from each cross-validation run\n",
    "    error.append(model.score(data[predictors].iloc[test,:], data[outcome].iloc[test]))\n",
    " \n",
    "  print (\"Cross-Validation Score : %s\" % \"{0:.3%}\".format(np.mean(error)))\n",
    "\n",
    "  #Fit the model again so that it can be refered outside the function:\n",
    "  model.fit(data[predictors],data[outcome])\n",
    "\n"
   ]
  },
  {
   "cell_type": "code",
   "execution_count": 34,
   "metadata": {},
   "outputs": [
    {
     "name": "stdout",
     "output_type": "stream",
     "text": [
      "Accuracy : 99.988%\n",
      "Cross-Validation Score : 91.678%\n"
     ]
    }
   ],
   "source": [
    "#random forest\n",
    "model = RandomForestClassifier(n_estimators=100)\n",
    "predictor_var = ['emp_length_int', 'home_ownership_cat', 'annual_inc', 'income_cat',\n",
    "       'loan_amount', 'term_cat', 'purpose_cat', 'interest_payment_cat',\n",
    "        'interest_rate','grade_cat','total_pymnt','total_rec_prncp','recoveries']\n",
    "classification_model(model, df,predictor_var,outcome_var)\n",
    "\n",
    "#Generic function for making a classification model and accessing performance:\n",
    "def classification_model(model, data, predictors, outcome):\n",
    "  #Fit the model:\n",
    "  model.fit(data[predictors],data[outcome])\n",
    "  \n",
    "  #Make predictions on training set:\n",
    "  predictions = model.predict(data[predictors])\n",
    "  \n",
    "  #Print accuracy\n",
    "  accuracy = metrics.accuracy_score(predictions,data[outcome])\n",
    "  print (\"Accuracy : %s\" % \"{0:.3%}\".format(accuracy))\n",
    "\n",
    "  #Perform k-fold cross-validation with 10 folds\n",
    "  kf = KFold(data.shape[0], n_folds=10)\n",
    "  error = []\n",
    "  for train, test in kf:\n",
    "    # Filter training data\n",
    "    train_predictors = (data[predictors].iloc[train,:])\n",
    "    \n",
    "    # The target we're using to train the algorithm.\n",
    "    train_target = data[outcome].iloc[train]\n",
    "    \n",
    "    # Training the algorithm using the predictors and target.\n",
    "    model.fit(train_predictors, train_target)\n",
    "    \n",
    "    #Record error from each cross-validation run\n",
    "    error.append(model.score(data[predictors].iloc[test,:], data[outcome].iloc[test]))\n",
    " \n",
    "  print (\"Cross-Validation Score : %s\" % \"{0:.3%}\".format(np.mean(error)))\n",
    "\n",
    "  #Fit the model again so that it can be refered outside the function:\n",
    "  model.fit(data[predictors],data[outcome])\n",
    "\n"
   ]
  },
  {
   "cell_type": "code",
   "execution_count": 35,
   "metadata": {},
   "outputs": [
    {
     "name": "stdout",
     "output_type": "stream",
     "text": [
      "recoveries              0.321087\n",
      "total_rec_prncp         0.139532\n",
      "total_pymnt             0.132053\n",
      "loan_amount             0.103299\n",
      "interest_rate           0.100047\n",
      "annual_inc              0.090634\n",
      "emp_length_int          0.043671\n",
      "purpose_cat             0.025913\n",
      "grade_cat               0.017221\n",
      "home_ownership_cat      0.012467\n",
      "term_cat                0.005232\n",
      "interest_payment_cat    0.005046\n",
      "income_cat              0.003797\n",
      "dtype: float64\n"
     ]
    }
   ],
   "source": [
    "#Create a series with feature importances:\n",
    "featimp = pd.Series(model.feature_importances_, index=predictor_var).sort_values(ascending=False)\n",
    "print (featimp)"
   ]
  },
  {
   "cell_type": "code",
   "execution_count": 36,
   "metadata": {},
   "outputs": [
    {
     "name": "stdout",
     "output_type": "stream",
     "text": [
      "Accuracy : 95.182%\n",
      "Cross-Validation Score : 93.207%\n"
     ]
    }
   ],
   "source": [
    "model = RandomForestClassifier(n_estimators=25, min_samples_split=25, max_depth=7, max_features=1)\n",
    "predictor_var = ['recoveries','total_rec_prncp','total_pymnt','loan_amount','interest_rate']\n",
    "classification_model(model, df,predictor_var,outcome_var)\n",
    "#end of logistic regression "
   ]
  },
  {
   "cell_type": "code",
   "execution_count": 37,
   "metadata": {},
   "outputs": [
    {
     "data": {
      "text/plain": [
       "<matplotlib.axes._subplots.AxesSubplot at 0x20d887abf60>"
      ]
     },
     "execution_count": 37,
     "metadata": {},
     "output_type": "execute_result"
    }
   ],
   "source": [
    "#scatter plots with linear regression\n",
    "df.plot(kind=\"scatter\", x=\"annual_inc\",y=\"loan_condition_cat\")"
   ]
  },
  {
   "cell_type": "code",
   "execution_count": 16,
   "metadata": {},
   "outputs": [],
   "source": [
    "%matplotlib inline\n",
    "import matplotlib.pyplot as plt"
   ]
  },
  {
   "cell_type": "code",
   "execution_count": 39,
   "metadata": {},
   "outputs": [
    {
     "data": {
      "text/plain": [
       "<matplotlib.axes._subplots.AxesSubplot at 0x20d88a08c88>"
      ]
     },
     "execution_count": 39,
     "metadata": {},
     "output_type": "execute_result"
    },
    {
     "data": {
      "image/png": "[encoded data removed]",
      "text/plain": [
       "<Figure size 432x288 with 1 Axes>"
      ]
     },
     "metadata": {},
     "output_type": "display_data"
    }
   ],
   "source": [
    "df.plot(kind=\"scatter\", x=\"annual_inc\",y=\"loan_condition_cat\")"
   ]
  },
  {
   "cell_type": "code",
   "execution_count": 41,
   "metadata": {},
   "outputs": [
    {
     "data": {
      "text/plain": [
       "<matplotlib.axes._subplots.AxesSubplot at 0x20d88a774a8>"
      ]
     },
     "execution_count": 41,
     "metadata": {},
     "output_type": "execute_result"
    },
    {
     "data": {
      "image/png": "[encoded data removed]",
      "text/plain": [
       "<Figure size 432x288 with 1 Axes>"
      ]
     },
     "metadata": {},
     "output_type": "display_data"
    }
   ],
   "source": [
    "df.plot(kind=\"scatter\", x=\"interest_rate\",y=\"total_pymnt\")"
   ]
  },
  {
   "cell_type": "code",
   "execution_count": 17,
   "metadata": {},
   "outputs": [],
   "source": [
    "import statsmodels.formula.api as smapi"
   ]
  },
  {
   "cell_type": "code",
   "execution_count": 44,
   "metadata": {},
   "outputs": [
    {
     "data": {
      "text/html": [
       "<table class=\"simpletable\">\n",
       "<caption>OLS Regression Results</caption>\n",
       "<tr>\n",
       "  <th>Dep. Variable:</th>       <td>total_pymnt</td>   <th>  R-squared:         </th>  <td>   0.029</td>  \n",
       "</tr>\n",
       "<tr>\n",
       "  <th>Model:</th>                   <td>OLS</td>       <th>  Adj. R-squared:    </th>  <td>   0.029</td>  \n",
       "</tr>\n",
       "<tr>\n",
       "  <th>Method:</th>             <td>Least Squares</td>  <th>  F-statistic:       </th>  <td>2.657e+04</td> \n",
       "</tr>\n",
       "<tr>\n",
       "  <th>Date:</th>             <td>Fri, 30 Nov 2018</td> <th>  Prob (F-statistic):</th>   <td>  0.00</td>   \n",
       "</tr>\n",
       "<tr>\n",
       "  <th>Time:</th>                 <td>01:54:24</td>     <th>  Log-Likelihood:    </th> <td>-9.2067e+06</td>\n",
       "</tr>\n",
       "<tr>\n",
       "  <th>No. Observations:</th>      <td>887379</td>      <th>  AIC:               </th>  <td>1.841e+07</td> \n",
       "</tr>\n",
       "<tr>\n",
       "  <th>Df Residuals:</th>          <td>887377</td>      <th>  BIC:               </th>  <td>1.841e+07</td> \n",
       "</tr>\n",
       "<tr>\n",
       "  <th>Df Model:</th>              <td>     1</td>      <th>                     </th>      <td> </td>     \n",
       "</tr>\n",
       "<tr>\n",
       "  <th>Covariance Type:</th>      <td>nonrobust</td>    <th>                     </th>      <td> </td>     \n",
       "</tr>\n",
       "</table>\n",
       "<table class=\"simpletable\">\n",
       "<tr>\n",
       "        <td></td>           <th>coef</th>     <th>std err</th>      <th>t</th>      <th>P>|t|</th>  <th>[0.025</th>    <th>0.975]</th>  \n",
       "</tr>\n",
       "<tr>\n",
       "  <th>Intercept</th>     <td> 3501.5603</td> <td>   26.217</td> <td>  133.561</td> <td> 0.000</td> <td> 3450.176</td> <td> 3552.944</td>\n",
       "</tr>\n",
       "<tr>\n",
       "  <th>interest_rate</th> <td>  306.2841</td> <td>    1.879</td> <td>  163.005</td> <td> 0.000</td> <td>  302.601</td> <td>  309.967</td>\n",
       "</tr>\n",
       "</table>\n",
       "<table class=\"simpletable\">\n",
       "<tr>\n",
       "  <th>Omnibus:</th>       <td>283859.577</td> <th>  Durbin-Watson:     </th>  <td>   1.296</td> \n",
       "</tr>\n",
       "<tr>\n",
       "  <th>Prob(Omnibus):</th>   <td> 0.000</td>   <th>  Jarque-Bera (JB):  </th> <td>823652.110</td>\n",
       "</tr>\n",
       "<tr>\n",
       "  <th>Skew:</th>            <td> 1.701</td>   <th>  Prob(JB):          </th>  <td>    0.00</td> \n",
       "</tr>\n",
       "<tr>\n",
       "  <th>Kurtosis:</th>        <td> 6.271</td>   <th>  Cond. No.          </th>  <td>    44.6</td> \n",
       "</tr>\n",
       "</table><br/><br/>Warnings:<br/>[1] Standard Errors assume that the covariance matrix of the errors is correctly specified."
      ],
      "text/plain": [
       "<class 'statsmodels.iolib.summary.Summary'>\n",
       "\"\"\"\n",
       "                            OLS Regression Results                            \n",
       "==============================================================================\n",
       "Dep. Variable:            total_pymnt   R-squared:                       0.029\n",
       "Model:                            OLS   Adj. R-squared:                  0.029\n",
       "Method:                 Least Squares   F-statistic:                 2.657e+04\n",
       "Date:                Fri, 30 Nov 2018   Prob (F-statistic):               0.00\n",
       "Time:                        01:54:24   Log-Likelihood:            -9.2067e+06\n",
       "No. Observations:              887379   AIC:                         1.841e+07\n",
       "Df Residuals:                  887377   BIC:                         1.841e+07\n",
       "Df Model:                           1                                         \n",
       "Covariance Type:            nonrobust                                         \n",
       "=================================================================================\n",
       "                    coef    std err          t      P>|t|      [0.025      0.975]\n",
       "---------------------------------------------------------------------------------\n",
       "Intercept      3501.5603     26.217    133.561      0.000    3450.176    3552.944\n",
       "interest_rate   306.2841      1.879    163.005      0.000     302.601     309.967\n",
       "==============================================================================\n",
       "Omnibus:                   283859.577   Durbin-Watson:                   1.296\n",
       "Prob(Omnibus):                  0.000   Jarque-Bera (JB):           823652.110\n",
       "Skew:                           1.701   Prob(JB):                         0.00\n",
       "Kurtosis:                       6.271   Cond. No.                         44.6\n",
       "==============================================================================\n",
       "\n",
       "Warnings:\n",
       "[1] Standard Errors assume that the covariance matrix of the errors is correctly specified.\n",
       "\"\"\""
      ]
     },
     "execution_count": 44,
     "metadata": {},
     "output_type": "execute_result"
    }
   ],
   "source": [
    "lm=smapi.ols(formula=\"total_pymnt~interest_rate\",data=df).fit()\n",
    "lm.summary()"
   ]
  },
  {
   "cell_type": "code",
   "execution_count": 45,
   "metadata": {},
   "outputs": [
    {
     "data": {
      "text/html": [
       "<table class=\"simpletable\">\n",
       "<caption>OLS Regression Results</caption>\n",
       "<tr>\n",
       "  <th>Dep. Variable:</th>       <td>total_pymnt</td>   <th>  R-squared:         </th>  <td>   0.276</td>  \n",
       "</tr>\n",
       "<tr>\n",
       "  <th>Model:</th>                   <td>OLS</td>       <th>  Adj. R-squared:    </th>  <td>   0.276</td>  \n",
       "</tr>\n",
       "<tr>\n",
       "  <th>Method:</th>             <td>Least Squares</td>  <th>  F-statistic:       </th>  <td>1.689e+05</td> \n",
       "</tr>\n",
       "<tr>\n",
       "  <th>Date:</th>             <td>Fri, 30 Nov 2018</td> <th>  Prob (F-statistic):</th>   <td>  0.00</td>   \n",
       "</tr>\n",
       "<tr>\n",
       "  <th>Time:</th>                 <td>01:58:28</td>     <th>  Log-Likelihood:    </th> <td>-9.0766e+06</td>\n",
       "</tr>\n",
       "<tr>\n",
       "  <th>No. Observations:</th>      <td>887379</td>      <th>  AIC:               </th>  <td>1.815e+07</td> \n",
       "</tr>\n",
       "<tr>\n",
       "  <th>Df Residuals:</th>          <td>887376</td>      <th>  BIC:               </th>  <td>1.815e+07</td> \n",
       "</tr>\n",
       "<tr>\n",
       "  <th>Df Model:</th>              <td>     2</td>      <th>                     </th>      <td> </td>     \n",
       "</tr>\n",
       "<tr>\n",
       "  <th>Covariance Type:</th>      <td>nonrobust</td>    <th>                     </th>      <td> </td>     \n",
       "</tr>\n",
       "</table>\n",
       "<table class=\"simpletable\">\n",
       "<tr>\n",
       "        <td></td>           <th>coef</th>     <th>std err</th>      <th>t</th>      <th>P>|t|</th>  <th>[0.025</th>    <th>0.975]</th>  \n",
       "</tr>\n",
       "<tr>\n",
       "  <th>Intercept</th>     <td>-1966.2610</td> <td>   24.731</td> <td>  -79.507</td> <td> 0.000</td> <td>-2014.732</td> <td>-1917.790</td>\n",
       "</tr>\n",
       "<tr>\n",
       "  <th>interest_rate</th> <td>  186.4894</td> <td>    1.637</td> <td>  113.895</td> <td> 0.000</td> <td>  183.280</td> <td>  189.699</td>\n",
       "</tr>\n",
       "<tr>\n",
       "  <th>installment</th>   <td>   16.1540</td> <td>    0.029</td> <td>  549.783</td> <td> 0.000</td> <td>   16.096</td> <td>   16.212</td>\n",
       "</tr>\n",
       "</table>\n",
       "<table class=\"simpletable\">\n",
       "<tr>\n",
       "  <th>Omnibus:</th>       <td>109084.037</td> <th>  Durbin-Watson:     </th>  <td>   1.001</td> \n",
       "</tr>\n",
       "<tr>\n",
       "  <th>Prob(Omnibus):</th>   <td> 0.000</td>   <th>  Jarque-Bera (JB):  </th> <td>192703.656</td>\n",
       "</tr>\n",
       "<tr>\n",
       "  <th>Skew:</th>            <td> 0.826</td>   <th>  Prob(JB):          </th>  <td>    0.00</td> \n",
       "</tr>\n",
       "<tr>\n",
       "  <th>Kurtosis:</th>        <td> 4.575</td>   <th>  Cond. No.          </th>  <td>1.74e+03</td> \n",
       "</tr>\n",
       "</table><br/><br/>Warnings:<br/>[1] Standard Errors assume that the covariance matrix of the errors is correctly specified.<br/>[2] The condition number is large, 1.74e+03. This might indicate that there are<br/>strong multicollinearity or other numerical problems."
      ],
      "text/plain": [
       "<class 'statsmodels.iolib.summary.Summary'>\n",
       "\"\"\"\n",
       "                            OLS Regression Results                            \n",
       "==============================================================================\n",
       "Dep. Variable:            total_pymnt   R-squared:                       0.276\n",
       "Model:                            OLS   Adj. R-squared:                  0.276\n",
       "Method:                 Least Squares   F-statistic:                 1.689e+05\n",
       "Date:                Fri, 30 Nov 2018   Prob (F-statistic):               0.00\n",
       "Time:                        01:58:28   Log-Likelihood:            -9.0766e+06\n",
       "No. Observations:              887379   AIC:                         1.815e+07\n",
       "Df Residuals:                  887376   BIC:                         1.815e+07\n",
       "Df Model:                           2                                         \n",
       "Covariance Type:            nonrobust                                         \n",
       "=================================================================================\n",
       "                    coef    std err          t      P>|t|      [0.025      0.975]\n",
       "---------------------------------------------------------------------------------\n",
       "Intercept     -1966.2610     24.731    -79.507      0.000   -2014.732   -1917.790\n",
       "interest_rate   186.4894      1.637    113.895      0.000     183.280     189.699\n",
       "installment      16.1540      0.029    549.783      0.000      16.096      16.212\n",
       "==============================================================================\n",
       "Omnibus:                   109084.037   Durbin-Watson:                   1.001\n",
       "Prob(Omnibus):                  0.000   Jarque-Bera (JB):           192703.656\n",
       "Skew:                           0.826   Prob(JB):                         0.00\n",
       "Kurtosis:                       4.575   Cond. No.                     1.74e+03\n",
       "==============================================================================\n",
       "\n",
       "Warnings:\n",
       "[1] Standard Errors assume that the covariance matrix of the errors is correctly specified.\n",
       "[2] The condition number is large, 1.74e+03. This might indicate that there are\n",
       "strong multicollinearity or other numerical problems.\n",
       "\"\"\""
      ]
     },
     "execution_count": 45,
     "metadata": {},
     "output_type": "execute_result"
    }
   ],
   "source": [
    "lm=smapi.ols(formula=\"total_pymnt~interest_rate+installment\",data=df).fit()\n",
    "lm.summary()"
   ]
  },
  {
   "cell_type": "code",
   "execution_count": 46,
   "metadata": {},
   "outputs": [
    {
     "data": {
      "text/html": [
       "<table class=\"simpletable\">\n",
       "<caption>OLS Regression Results</caption>\n",
       "<tr>\n",
       "  <th>Dep. Variable:</th>       <td>total_pymnt</td>   <th>  R-squared:         </th>  <td>   0.064</td>  \n",
       "</tr>\n",
       "<tr>\n",
       "  <th>Model:</th>                   <td>OLS</td>       <th>  Adj. R-squared:    </th>  <td>   0.064</td>  \n",
       "</tr>\n",
       "<tr>\n",
       "  <th>Method:</th>             <td>Least Squares</td>  <th>  F-statistic:       </th>  <td>3.030e+04</td> \n",
       "</tr>\n",
       "<tr>\n",
       "  <th>Date:</th>             <td>Fri, 30 Nov 2018</td> <th>  Prob (F-statistic):</th>   <td>  0.00</td>   \n",
       "</tr>\n",
       "<tr>\n",
       "  <th>Time:</th>                 <td>02:00:14</td>     <th>  Log-Likelihood:    </th> <td>-9.1905e+06</td>\n",
       "</tr>\n",
       "<tr>\n",
       "  <th>No. Observations:</th>      <td>887379</td>      <th>  AIC:               </th>  <td>1.838e+07</td> \n",
       "</tr>\n",
       "<tr>\n",
       "  <th>Df Residuals:</th>          <td>887376</td>      <th>  BIC:               </th>  <td>1.838e+07</td> \n",
       "</tr>\n",
       "<tr>\n",
       "  <th>Df Model:</th>              <td>     2</td>      <th>                     </th>      <td> </td>     \n",
       "</tr>\n",
       "<tr>\n",
       "  <th>Covariance Type:</th>      <td>nonrobust</td>    <th>                     </th>      <td> </td>     \n",
       "</tr>\n",
       "</table>\n",
       "<table class=\"simpletable\">\n",
       "<tr>\n",
       "        <td></td>           <th>coef</th>     <th>std err</th>      <th>t</th>      <th>P>|t|</th>  <th>[0.025</th>    <th>0.975]</th>  \n",
       "</tr>\n",
       "<tr>\n",
       "  <th>Intercept</th>     <td> -842.1048</td> <td>   35.125</td> <td>  -23.974</td> <td> 0.000</td> <td> -910.949</td> <td> -773.260</td>\n",
       "</tr>\n",
       "<tr>\n",
       "  <th>interest_rate</th> <td>  333.2640</td> <td>    1.851</td> <td>  180.053</td> <td> 0.000</td> <td>  329.636</td> <td>  336.892</td>\n",
       "</tr>\n",
       "<tr>\n",
       "  <th>income_cat</th>    <td> 3331.0468</td> <td>   18.327</td> <td>  181.756</td> <td> 0.000</td> <td> 3295.126</td> <td> 3366.967</td>\n",
       "</tr>\n",
       "</table>\n",
       "<table class=\"simpletable\">\n",
       "<tr>\n",
       "  <th>Omnibus:</th>       <td>256105.356</td> <th>  Durbin-Watson:     </th>  <td>   1.259</td> \n",
       "</tr>\n",
       "<tr>\n",
       "  <th>Prob(Omnibus):</th>   <td> 0.000</td>   <th>  Jarque-Bera (JB):  </th> <td>670082.882</td>\n",
       "</tr>\n",
       "<tr>\n",
       "  <th>Skew:</th>            <td> 1.575</td>   <th>  Prob(JB):          </th>  <td>    0.00</td> \n",
       "</tr>\n",
       "<tr>\n",
       "  <th>Kurtosis:</th>        <td> 5.864</td>   <th>  Cond. No.          </th>  <td>    65.2</td> \n",
       "</tr>\n",
       "</table><br/><br/>Warnings:<br/>[1] Standard Errors assume that the covariance matrix of the errors is correctly specified."
      ],
      "text/plain": [
       "<class 'statsmodels.iolib.summary.Summary'>\n",
       "\"\"\"\n",
       "                            OLS Regression Results                            \n",
       "==============================================================================\n",
       "Dep. Variable:            total_pymnt   R-squared:                       0.064\n",
       "Model:                            OLS   Adj. R-squared:                  0.064\n",
       "Method:                 Least Squares   F-statistic:                 3.030e+04\n",
       "Date:                Fri, 30 Nov 2018   Prob (F-statistic):               0.00\n",
       "Time:                        02:00:14   Log-Likelihood:            -9.1905e+06\n",
       "No. Observations:              887379   AIC:                         1.838e+07\n",
       "Df Residuals:                  887376   BIC:                         1.838e+07\n",
       "Df Model:                           2                                         \n",
       "Covariance Type:            nonrobust                                         \n",
       "=================================================================================\n",
       "                    coef    std err          t      P>|t|      [0.025      0.975]\n",
       "---------------------------------------------------------------------------------\n",
       "Intercept      -842.1048     35.125    -23.974      0.000    -910.949    -773.260\n",
       "interest_rate   333.2640      1.851    180.053      0.000     329.636     336.892\n",
       "income_cat     3331.0468     18.327    181.756      0.000    3295.126    3366.967\n",
       "==============================================================================\n",
       "Omnibus:                   256105.356   Durbin-Watson:                   1.259\n",
       "Prob(Omnibus):                  0.000   Jarque-Bera (JB):           670082.882\n",
       "Skew:                           1.575   Prob(JB):                         0.00\n",
       "Kurtosis:                       5.864   Cond. No.                         65.2\n",
       "==============================================================================\n",
       "\n",
       "Warnings:\n",
       "[1] Standard Errors assume that the covariance matrix of the errors is correctly specified.\n",
       "\"\"\""
      ]
     },
     "execution_count": 46,
     "metadata": {},
     "output_type": "execute_result"
    }
   ],
   "source": [
    "lm=smapi.ols(formula=\"total_pymnt~interest_rate+income_cat\",data=df).fit()\n",
    "lm.summary()"
   ]
  },
  {
   "cell_type": "code",
   "execution_count": 21,
   "metadata": {},
   "outputs": [
    {
     "data": {
      "text/plain": [
       "<matplotlib.axes._subplots.AxesSubplot at 0x20511c13828>"
      ]
     },
     "execution_count": 21,
     "metadata": {},
     "output_type": "execute_result"
    },
    {
     "data": {
      "image/png": "[encoded data removed]",
      "text/plain": [
       "<Figure size 432x288 with 1 Axes>"
      ]
     },
     "metadata": {},
     "output_type": "display_data"
    }
   ],
   "source": [
    "df.plot(kind=\"scatter\", x=\"interest_rate\",y=\"installment\")"
   ]
  },
  {
   "cell_type": "code",
   "execution_count": 22,
   "metadata": {},
   "outputs": [
    {
     "data": {
      "text/plain": [
       "(44369, 30)"
      ]
     },
     "execution_count": 22,
     "metadata": {},
     "output_type": "execute_result"
    }
   ],
   "source": [
    "\n",
    "df.shape"
   ]
  },
  {
   "cell_type": "code",
   "execution_count": 13,
   "metadata": {},
   "outputs": [],
   "source": [
    "# taking 5% of the dataset without replacing anything\n",
    "df = df.sample(frac=0.05, replace=False, random_state=123)"
   ]
  },
  {
   "cell_type": "code",
   "execution_count": 35,
   "metadata": {},
   "outputs": [],
   "source": [
    "#starting more linear regression\n",
    "df.shape\n",
    "from numpy import *\n",
    "from scipy.interpolate import *"
   ]
  },
  {
   "cell_type": "code",
   "execution_count": 37,
   "metadata": {},
   "outputs": [
    {
     "data": {
      "text/html": [
       "<div>\n",
       "<style scoped>\n",
       "    .dataframe tbody tr th:only-of-type {\n",
       "        vertical-align: middle;\n",
       "    }\n",
       "\n",
       "    .dataframe tbody tr th {\n",
       "        vertical-align: top;\n",
       "    }\n",
       "\n",
       "    .dataframe thead th {\n",
       "        text-align: right;\n",
       "    }\n",
       "</style>\n",
       "<table border=\"1\" class=\"dataframe\">\n",
       "  <thead>\n",
       "    <tr style=\"text-align: right;\">\n",
       "      <th></th>\n",
       "      <th>id</th>\n",
       "      <th>year</th>\n",
       "      <th>issue_d</th>\n",
       "      <th>final_d</th>\n",
       "      <th>emp_length_int</th>\n",
       "      <th>home_ownership</th>\n",
       "      <th>home_ownership_cat</th>\n",
       "      <th>income_category</th>\n",
       "      <th>annual_inc</th>\n",
       "      <th>income_cat</th>\n",
       "      <th>...</th>\n",
       "      <th>loan_condition_cat</th>\n",
       "      <th>interest_rate</th>\n",
       "      <th>grade</th>\n",
       "      <th>grade_cat</th>\n",
       "      <th>dti</th>\n",
       "      <th>total_pymnt</th>\n",
       "      <th>total_rec_prncp</th>\n",
       "      <th>recoveries</th>\n",
       "      <th>installment</th>\n",
       "      <th>region</th>\n",
       "    </tr>\n",
       "  </thead>\n",
       "  <tbody>\n",
       "    <tr>\n",
       "      <th>70467</th>\n",
       "      <td>8556040</td>\n",
       "      <td>2013</td>\n",
       "      <td>01/11/2013</td>\n",
       "      <td>1012016</td>\n",
       "      <td>10.00</td>\n",
       "      <td>MORTGAGE</td>\n",
       "      <td>3</td>\n",
       "      <td>Low</td>\n",
       "      <td>96000</td>\n",
       "      <td>1</td>\n",
       "      <td>...</td>\n",
       "      <td>0</td>\n",
       "      <td>9.67</td>\n",
       "      <td>B</td>\n",
       "      <td>2</td>\n",
       "      <td>22.75</td>\n",
       "      <td>10852.030000</td>\n",
       "      <td>9003.16</td>\n",
       "      <td>0.0</td>\n",
       "      <td>417.47</td>\n",
       "      <td>munster</td>\n",
       "    </tr>\n",
       "    <tr>\n",
       "      <th>165635</th>\n",
       "      <td>3355435</td>\n",
       "      <td>2013</td>\n",
       "      <td>01/02/2013</td>\n",
       "      <td>1062015</td>\n",
       "      <td>6.00</td>\n",
       "      <td>MORTGAGE</td>\n",
       "      <td>3</td>\n",
       "      <td>Low</td>\n",
       "      <td>58000</td>\n",
       "      <td>1</td>\n",
       "      <td>...</td>\n",
       "      <td>0</td>\n",
       "      <td>13.11</td>\n",
       "      <td>B</td>\n",
       "      <td>2</td>\n",
       "      <td>17.46</td>\n",
       "      <td>9627.426447</td>\n",
       "      <td>8000.00</td>\n",
       "      <td>0.0</td>\n",
       "      <td>269.98</td>\n",
       "      <td>cannught</td>\n",
       "    </tr>\n",
       "    <tr>\n",
       "      <th>496523</th>\n",
       "      <td>66611115</td>\n",
       "      <td>2015</td>\n",
       "      <td>01/12/2015</td>\n",
       "      <td>1012016</td>\n",
       "      <td>6.05</td>\n",
       "      <td>OWN</td>\n",
       "      <td>2</td>\n",
       "      <td>Low</td>\n",
       "      <td>52000</td>\n",
       "      <td>1</td>\n",
       "      <td>...</td>\n",
       "      <td>0</td>\n",
       "      <td>10.64</td>\n",
       "      <td>B</td>\n",
       "      <td>2</td>\n",
       "      <td>25.04</td>\n",
       "      <td>313.870000</td>\n",
       "      <td>237.02</td>\n",
       "      <td>0.0</td>\n",
       "      <td>325.69</td>\n",
       "      <td>munster</td>\n",
       "    </tr>\n",
       "    <tr>\n",
       "      <th>182496</th>\n",
       "      <td>1685370</td>\n",
       "      <td>2012</td>\n",
       "      <td>01/12/2012</td>\n",
       "      <td>1012013</td>\n",
       "      <td>10.00</td>\n",
       "      <td>OWN</td>\n",
       "      <td>2</td>\n",
       "      <td>Low</td>\n",
       "      <td>90000</td>\n",
       "      <td>1</td>\n",
       "      <td>...</td>\n",
       "      <td>0</td>\n",
       "      <td>15.80</td>\n",
       "      <td>C</td>\n",
       "      <td>3</td>\n",
       "      <td>18.16</td>\n",
       "      <td>16211.070000</td>\n",
       "      <td>16000.00</td>\n",
       "      <td>0.0</td>\n",
       "      <td>560.94</td>\n",
       "      <td>Northern-Irl</td>\n",
       "    </tr>\n",
       "    <tr>\n",
       "      <th>554977</th>\n",
       "      <td>63286796</td>\n",
       "      <td>2015</td>\n",
       "      <td>01/10/2015</td>\n",
       "      <td>1122015</td>\n",
       "      <td>10.00</td>\n",
       "      <td>RENT</td>\n",
       "      <td>1</td>\n",
       "      <td>Low</td>\n",
       "      <td>75000</td>\n",
       "      <td>1</td>\n",
       "      <td>...</td>\n",
       "      <td>0</td>\n",
       "      <td>7.89</td>\n",
       "      <td>A</td>\n",
       "      <td>1</td>\n",
       "      <td>8.47</td>\n",
       "      <td>616.950000</td>\n",
       "      <td>495.84</td>\n",
       "      <td>0.0</td>\n",
       "      <td>312.86</td>\n",
       "      <td>ulster</td>\n",
       "    </tr>\n",
       "    <tr>\n",
       "      <th>164376</th>\n",
       "      <td>3364840</td>\n",
       "      <td>2013</td>\n",
       "      <td>01/02/2013</td>\n",
       "      <td>1022014</td>\n",
       "      <td>6.05</td>\n",
       "      <td>MORTGAGE</td>\n",
       "      <td>3</td>\n",
       "      <td>Low</td>\n",
       "      <td>36642</td>\n",
       "      <td>1</td>\n",
       "      <td>...</td>\n",
       "      <td>0</td>\n",
       "      <td>12.12</td>\n",
       "      <td>B</td>\n",
       "      <td>2</td>\n",
       "      <td>23.15</td>\n",
       "      <td>18153.040000</td>\n",
       "      <td>16425.00</td>\n",
       "      <td>0.0</td>\n",
       "      <td>546.49</td>\n",
       "      <td>cannught</td>\n",
       "    </tr>\n",
       "    <tr>\n",
       "      <th>337451</th>\n",
       "      <td>22283070</td>\n",
       "      <td>2014</td>\n",
       "      <td>01/08/2014</td>\n",
       "      <td>1012016</td>\n",
       "      <td>6.05</td>\n",
       "      <td>MORTGAGE</td>\n",
       "      <td>3</td>\n",
       "      <td>Low</td>\n",
       "      <td>45000</td>\n",
       "      <td>1</td>\n",
       "      <td>...</td>\n",
       "      <td>0</td>\n",
       "      <td>14.99</td>\n",
       "      <td>C</td>\n",
       "      <td>3</td>\n",
       "      <td>26.77</td>\n",
       "      <td>5137.560000</td>\n",
       "      <td>2897.23</td>\n",
       "      <td>0.0</td>\n",
       "      <td>285.42</td>\n",
       "      <td>cannught</td>\n",
       "    </tr>\n",
       "    <tr>\n",
       "      <th>413135</th>\n",
       "      <td>13038358</td>\n",
       "      <td>2014</td>\n",
       "      <td>01/04/2014</td>\n",
       "      <td>1012016</td>\n",
       "      <td>3.00</td>\n",
       "      <td>RENT</td>\n",
       "      <td>1</td>\n",
       "      <td>Low</td>\n",
       "      <td>60000</td>\n",
       "      <td>1</td>\n",
       "      <td>...</td>\n",
       "      <td>0</td>\n",
       "      <td>19.47</td>\n",
       "      <td>D</td>\n",
       "      <td>4</td>\n",
       "      <td>17.60</td>\n",
       "      <td>7922.880000</td>\n",
       "      <td>3560.03</td>\n",
       "      <td>0.0</td>\n",
       "      <td>377.28</td>\n",
       "      <td>munster</td>\n",
       "    </tr>\n",
       "    <tr>\n",
       "      <th>455288</th>\n",
       "      <td>10628635</td>\n",
       "      <td>2014</td>\n",
       "      <td>01/01/2014</td>\n",
       "      <td>1122015</td>\n",
       "      <td>10.00</td>\n",
       "      <td>MORTGAGE</td>\n",
       "      <td>3</td>\n",
       "      <td>Low</td>\n",
       "      <td>43000</td>\n",
       "      <td>1</td>\n",
       "      <td>...</td>\n",
       "      <td>0</td>\n",
       "      <td>8.90</td>\n",
       "      <td>A</td>\n",
       "      <td>1</td>\n",
       "      <td>18.98</td>\n",
       "      <td>8778.920000</td>\n",
       "      <td>7289.09</td>\n",
       "      <td>0.0</td>\n",
       "      <td>381.04</td>\n",
       "      <td>leinster</td>\n",
       "    </tr>\n",
       "    <tr>\n",
       "      <th>619185</th>\n",
       "      <td>59591242</td>\n",
       "      <td>2015</td>\n",
       "      <td>01/09/2015</td>\n",
       "      <td>1012016</td>\n",
       "      <td>10.00</td>\n",
       "      <td>MORTGAGE</td>\n",
       "      <td>3</td>\n",
       "      <td>Low</td>\n",
       "      <td>45000</td>\n",
       "      <td>1</td>\n",
       "      <td>...</td>\n",
       "      <td>0</td>\n",
       "      <td>12.29</td>\n",
       "      <td>C</td>\n",
       "      <td>3</td>\n",
       "      <td>24.16</td>\n",
       "      <td>1089.470000</td>\n",
       "      <td>611.97</td>\n",
       "      <td>0.0</td>\n",
       "      <td>277.66</td>\n",
       "      <td>cannught</td>\n",
       "    </tr>\n",
       "  </tbody>\n",
       "</table>\n",
       "<p>10 rows × 30 columns</p>\n",
       "</div>"
      ],
      "text/plain": [
       "              id  year     issue_d  final_d  emp_length_int home_ownership  \\\n",
       "70467    8556040  2013  01/11/2013  1012016           10.00       MORTGAGE   \n",
       "165635   3355435  2013  01/02/2013  1062015            6.00       MORTGAGE   \n",
       "496523  66611115  2015  01/12/2015  1012016            6.05            OWN   \n",
       "182496   1685370  2012  01/12/2012  1012013           10.00            OWN   \n",
       "554977  63286796  2015  01/10/2015  1122015           10.00           RENT   \n",
       "164376   3364840  2013  01/02/2013  1022014            6.05       MORTGAGE   \n",
       "337451  22283070  2014  01/08/2014  1012016            6.05       MORTGAGE   \n",
       "413135  13038358  2014  01/04/2014  1012016            3.00           RENT   \n",
       "455288  10628635  2014  01/01/2014  1122015           10.00       MORTGAGE   \n",
       "619185  59591242  2015  01/09/2015  1012016           10.00       MORTGAGE   \n",
       "\n",
       "        home_ownership_cat income_category  annual_inc  income_cat  \\\n",
       "70467                    3             Low       96000           1   \n",
       "165635                   3             Low       58000           1   \n",
       "496523                   2             Low       52000           1   \n",
       "182496                   2             Low       90000           1   \n",
       "554977                   1             Low       75000           1   \n",
       "164376                   3             Low       36642           1   \n",
       "337451                   3             Low       45000           1   \n",
       "413135                   1             Low       60000           1   \n",
       "455288                   3             Low       43000           1   \n",
       "619185                   3             Low       45000           1   \n",
       "\n",
       "            ...       loan_condition_cat interest_rate  grade grade_cat  \\\n",
       "70467       ...                        0          9.67      B         2   \n",
       "165635      ...                        0         13.11      B         2   \n",
       "496523      ...                        0         10.64      B         2   \n",
       "182496      ...                        0         15.80      C         3   \n",
       "554977      ...                        0          7.89      A         1   \n",
       "164376      ...                        0         12.12      B         2   \n",
       "337451      ...                        0         14.99      C         3   \n",
       "413135      ...                        0         19.47      D         4   \n",
       "455288      ...                        0          8.90      A         1   \n",
       "619185      ...                        0         12.29      C         3   \n",
       "\n",
       "          dti   total_pymnt  total_rec_prncp recoveries  installment  \\\n",
       "70467   22.75  10852.030000          9003.16        0.0       417.47   \n",
       "165635  17.46   9627.426447          8000.00        0.0       269.98   \n",
       "496523  25.04    313.870000           237.02        0.0       325.69   \n",
       "182496  18.16  16211.070000         16000.00        0.0       560.94   \n",
       "554977   8.47    616.950000           495.84        0.0       312.86   \n",
       "164376  23.15  18153.040000         16425.00        0.0       546.49   \n",
       "337451  26.77   5137.560000          2897.23        0.0       285.42   \n",
       "413135  17.60   7922.880000          3560.03        0.0       377.28   \n",
       "455288  18.98   8778.920000          7289.09        0.0       381.04   \n",
       "619185  24.16   1089.470000           611.97        0.0       277.66   \n",
       "\n",
       "              region  \n",
       "70467        munster  \n",
       "165635      cannught  \n",
       "496523       munster  \n",
       "182496  Northern-Irl  \n",
       "554977        ulster  \n",
       "164376      cannught  \n",
       "337451      cannught  \n",
       "413135       munster  \n",
       "455288      leinster  \n",
       "619185      cannught  \n",
       "\n",
       "[10 rows x 30 columns]"
      ]
     },
     "execution_count": 37,
     "metadata": {},
     "output_type": "execute_result"
    }
   ],
   "source": [
    "df.head(n=10) "
   ]
  },
  {
   "cell_type": "code",
   "execution_count": 38,
   "metadata": {},
   "outputs": [],
   "source": [
    "XinterestRate=array([9.67,13.11,10.64,15.80,7.89,12.12,14.99, 19.47, 8.90, 12.29])\n",
    "Yinstallment=array([417.47,269.98,325.69,560.94,312.86,546.49,285.42, 377.28,381.04 , 277.66])"
   ]
  },
  {
   "cell_type": "code",
   "execution_count": 39,
   "metadata": {},
   "outputs": [],
   "source": [
    "p1 = polyfit(XinterestRate,Yinstallment,1)"
   ]
  },
  {
   "cell_type": "code",
   "execution_count": 40,
   "metadata": {},
   "outputs": [
    {
     "name": "stdout",
     "output_type": "stream",
     "text": [
      "[  4.77128616 315.89917847]\n"
     ]
    }
   ],
   "source": [
    "#show slope and intercept\n",
    "print(p1)"
   ]
  },
  {
   "cell_type": "code",
   "execution_count": 41,
   "metadata": {},
   "outputs": [
    {
     "data": {
      "text/plain": [
       "[<matplotlib.lines.Line2D at 0x20501a1a048>]"
      ]
     },
     "execution_count": 41,
     "metadata": {},
     "output_type": "execute_result"
    },
    {
     "data": {
      "image/png": "[encoded data removed]",
      "text/plain": [
       "<Figure size 432x288 with 1 Axes>"
      ]
     },
     "metadata": {},
     "output_type": "display_data"
    }
   ],
   "source": [
    "from matplotlib.pyplot import *\n",
    "#plot to show fit and data\n",
    "plot(XinterestRate,Yinstallment,'o')"
   ]
  },
  {
   "cell_type": "code",
   "execution_count": 43,
   "metadata": {},
   "outputs": [
    {
     "data": {
      "text/plain": [
       "[<matplotlib.lines.Line2D at 0x20501a7aa20>]"
      ]
     },
     "execution_count": 43,
     "metadata": {},
     "output_type": "execute_result"
    },
    {
     "data": {
      "image/png": "[encoded data removed]",
      "text/plain": [
       "<Figure size 432x288 with 1 Axes>"
      ]
     },
     "metadata": {},
     "output_type": "display_data"
    }
   ],
   "source": [
    "#linear fit along with data\n",
    "plot(XinterestRate,Yinstallment,'o')\n",
    "plot(XinterestRate,polyval(p1,XinterestRate),'-r')"
   ]
  },
  {
   "cell_type": "code",
   "execution_count": null,
   "metadata": {},
   "outputs": [],
   "source": []
  },
  {
   "cell_type": "code",
   "execution_count": null,
   "metadata": {},
   "outputs": [],
   "source": []
  }
 ],
 "metadata": {
  "kernelspec": {
   "display_name": "Python 3",
   "language": "python",
   "name": "python3"
  },
  "language_info": {
   "codemirror_mode": {
    "name": "ipython",
    "version": 3
   },
   "file_extension": ".py",
   "mimetype": "text/x-python",
   "name": "python",
   "nbconvert_exporter": "python",
   "pygments_lexer": "ipython3",
   "version": "3.6.5"
  }
 },
 "nbformat": 4,
 "nbformat_minor": 2
}
